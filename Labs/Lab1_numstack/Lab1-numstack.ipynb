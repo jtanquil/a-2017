{
 "cells": [
  {
   "cell_type": "markdown",
   "metadata": {},
   "source": [
    "### CS 109A/STAT 121A/AC 209A/CSCI E-109A \n",
    "\n",
    "# Lab 1: The Python Numerical stack and EDA\n",
    "\n",
    "**Harvard University**<br>\n",
    "**Fall 2017**<br>\n",
    "**Instructors: Pavlos Protopapas, Kevin Rader, Rahul Dave, Margo Levine**\n",
    "\n",
    "---"
   ]
  },
  {
   "cell_type": "markdown",
   "metadata": {},
   "source": [
    "# Table of Contents \n",
    "\n",
    "<ol start=\"0\">\n",
    "<li> Learning Goals </li>\n",
    "<li> Functions </li>\n",
    "<li> Introduction to Numpy </li>\n",
    "<li> Introduction to Pandas </li>\n",
    "<li> Beginning Exploratory Data Analysis (EDA)</li>\n",
    "<li> Conclusions </li>\n",
    "</ol>"
   ]
  },
  {
   "cell_type": "markdown",
   "metadata": {},
   "source": [
    "## Part 0: Learning Goals \n",
    "In this lab we pick up where we left off in lab 0, introducing functions and exploring numpy, a module which allows for mathematical manipulation of arrays.  We load a dataset first as a numpy array and then as a pandas dataframe, and begin exploratory data analysis (EDA). \n",
    "\n",
    "By the end of this lab, you will be able to:\n",
    "\n",
    "- Write user-defined functions to perform repetitive tasks.\n",
    "- Create and manipulate one-dimensional and two-dimensional numpy arrays, and pandas series and dataframes.\n",
    "- Describe how to index and \"type\" Pandas Series and Dataframes.\n",
    "- Create histograms and scatter plots for basic exploratory data analysis\n",
    "\n",
    "\n",
    "*This lab maps on to lecture 1, lecture 2, lecture 3 and to parts of homework 1.  Next Monday's lecture will address scraping, which is also needed for homework 1.*"
   ]
  },
  {
   "cell_type": "markdown",
   "metadata": {},
   "source": [
    "We first import the necessary libraries.  Besides the numpy and matplotlib libraries that we saw in lab 0, we also import pandas and seaborn, which will be discussed in more detail in this lab."
   ]
  },
  {
   "cell_type": "code",
   "execution_count": 1,
   "metadata": {
    "collapsed": true
   },
   "outputs": [],
   "source": [
    "# Prepares iPython notebook for working with matplotlib\n",
    "%matplotlib inline \n",
    "\n",
    "import numpy as np # imports a fast numerical programming library\n",
    "import matplotlib.pyplot as plt #sets up plotting under plt\n",
    "import pandas as pd #lets us handle data as dataframes\n",
    "\n",
    "#sets up pandas table display\n",
    "pd.set_option('display.width', 500)\n",
    "pd.set_option('display.max_columns', 100)\n",
    "pd.set_option('display.notebook_repr_html', True)\n",
    "\n",
    "import seaborn as sns #sets up styles and gives us more plotting options"
   ]
  },
  {
   "cell_type": "markdown",
   "metadata": {},
   "source": [
    "## Part 1: Functions\n",
    "\n",
    "A *function* object is a reusable block of code that does a specific task.  Functions are all over Python, either on their own or on other objects.  To invoke a function `func`, you call it as `func(arguments)`.\n",
    "\n",
    "We've seen built-in Python functions and methods.  For example, `len` and `print` are built-in Python functions.  And at the beginning of Lab 0, you called `np.mean` to calculate the mean of three numbers, where `mean` is a function in the numpy module and numpy was abbreviated as `np`. This syntax allow us to have multiple \"mean\" functions in different modules; calling this one as `np.mean` guarantees that we will pick up numpy's mean function, as opposed to a mean function from a different module.\n",
    "\n",
    "### Methods\n",
    "A function that belongs to an object is called a *method*. An example of this is `append` on an existing list. In other words, a *method* is a function on an *instance* of a type of object (also called *class*, in this case, list type)."
   ]
  },
  {
   "cell_type": "code",
   "execution_count": 2,
   "metadata": {},
   "outputs": [
    {
     "data": {
      "text/plain": [
       "3.0"
      ]
     },
     "execution_count": 2,
     "metadata": {},
     "output_type": "execute_result"
    }
   ],
   "source": [
    "import numpy as np # imports a fast numerical programming library\n",
    "np.mean([1, 2, 3, 4, 5])"
   ]
  },
  {
   "cell_type": "code",
   "execution_count": 3,
   "metadata": {},
   "outputs": [
    {
     "name": "stdout",
     "output_type": "stream",
     "text": [
      "[1.0, 2.09, 4.0, 2.0, 0.444]\n"
     ]
    },
    {
     "data": {
      "text/plain": [
       "[1.0, 2.09, 4.0, 2.0, 0.444, 56.7]"
      ]
     },
     "execution_count": 3,
     "metadata": {},
     "output_type": "execute_result"
    }
   ],
   "source": [
    "float_list = [1.0, 2.09, 4.0, 2.0, 0.444]\n",
    "print(float_list)\n",
    "float_list.append(56.7) \n",
    "float_list"
   ]
  },
  {
   "cell_type": "markdown",
   "metadata": {},
   "source": [
    "### User-defined functions\n",
    "\n",
    "We'll now learn to write our own user-defined functions.  Below is the syntax for defining a basic function with one input argument and one output. You can also define functions with no input or output arguments, or multiple input or output arguments.\n",
    "\n",
    "```\n",
    "def name_of_function(arg):\n",
    "    ...\n",
    "    return(output)\n",
    "```\n",
    "\n",
    "We can write functions with one input and one output argument.  Here are two such functions."
   ]
  },
  {
   "cell_type": "code",
   "execution_count": 4,
   "metadata": {},
   "outputs": [
    {
     "data": {
      "text/plain": [
       "(25, 125)"
      ]
     },
     "execution_count": 4,
     "metadata": {},
     "output_type": "execute_result"
    }
   ],
   "source": [
    "def square(x):\n",
    "    x_sqr = x*x\n",
    "    return(x_sqr)\n",
    "\n",
    "def cube(x):\n",
    "    x_cub = x*x*x\n",
    "    return(x_cub)\n",
    "\n",
    "square(5),cube(5)"
   ]
  },
  {
   "cell_type": "markdown",
   "metadata": {},
   "source": [
    "What if you want to return two variables at a time? The usual way is to return a tuple:"
   ]
  },
  {
   "cell_type": "code",
   "execution_count": 5,
   "metadata": {},
   "outputs": [
    {
     "data": {
      "text/plain": [
       "(25, 125)"
      ]
     },
     "execution_count": 5,
     "metadata": {},
     "output_type": "execute_result"
    }
   ],
   "source": [
    "def square_and_cube(x):\n",
    "    x_cub = x*x*x\n",
    "    x_sqr = x*x\n",
    "    return(x_sqr, x_cub)\n",
    "\n",
    "square_and_cube(5)"
   ]
  },
  {
   "cell_type": "markdown",
   "metadata": {},
   "source": [
    "### Lambda functions\n",
    "\n",
    "Often we quickly define mathematical functions with a one-line function called a *lambda* function.  Lambda functions are great because they enable us to write functions without having to name them, ie, they're *anonymous*.  \n",
    "No return statement is needed. \n"
   ]
  },
  {
   "cell_type": "code",
   "execution_count": 6,
   "metadata": {},
   "outputs": [
    {
     "name": "stdout",
     "output_type": "stream",
     "text": [
      "9\n"
     ]
    },
    {
     "data": {
      "text/plain": [
       "25"
      ]
     },
     "execution_count": 6,
     "metadata": {},
     "output_type": "execute_result"
    }
   ],
   "source": [
    "square = lambda x: x*x\n",
    "print(square(3))\n",
    "\n",
    "\n",
    "hypotenuse = lambda x, y: x*x + y*y\n",
    "\n",
    "## Same as\n",
    "\n",
    "# def hypotenuse(x, y):\n",
    "#     return(x*x + y*y)\n",
    "\n",
    "hypotenuse(3,4)"
   ]
  },
  {
   "cell_type": "markdown",
   "metadata": {},
   "source": [
    "### *Refactoring* using functions\n",
    "In an exercise from Lab 0, you wrote code that generated a list of the prime numbers between 1 and 100.  For the excercise below, it may help to revisit that code.\n",
    "\n",
    ">**EXERCISE**: Write a function called `isprime` that takes in a positive integer $N$, and determines whether or not it is prime.  Return the $N$ if it's prime and return nothing if it isn't.  \n",
    "\n",
    "> Then, using a list comprehension and `isprime`, create a list `myprimes` that contains all the prime numbers less than 100.  "
   ]
  },
  {
   "cell_type": "code",
   "execution_count": 7,
   "metadata": {},
   "outputs": [
    {
     "data": {
      "text/plain": [
       "[2,\n",
       " 3,\n",
       " 5,\n",
       " 7,\n",
       " 11,\n",
       " 13,\n",
       " 17,\n",
       " 19,\n",
       " 23,\n",
       " 29,\n",
       " 31,\n",
       " 37,\n",
       " 41,\n",
       " 43,\n",
       " 47,\n",
       " 53,\n",
       " 59,\n",
       " 61,\n",
       " 67,\n",
       " 71,\n",
       " 73,\n",
       " 79,\n",
       " 83,\n",
       " 89,\n",
       " 97]"
      ]
     },
     "execution_count": 7,
     "metadata": {},
     "output_type": "execute_result"
    }
   ],
   "source": [
    "# your code here\n",
    "def isprime(N):\n",
    "    for i in range(1, N - 1):\n",
    "        if N % (i + 1) == 0:\n",
    "            return None\n",
    "        \n",
    "    return N\n",
    "\n",
    "myprimes = [n for n in range(2, 100) if isprime(n)]\n",
    "myprimes"
   ]
  },
  {
   "cell_type": "markdown",
   "metadata": {},
   "source": [
    "What you just did is a *refactoring* of the algorithm you used in lab 0 to find primes smaller than 100. The current implementation is much cleaner, since  `isprime`  contains the main functionality of the algorithm and can thus be *re-used* as needed.  You should aim to write code like this, where the often-repeated algorithms are written as a reuseable function."
   ]
  },
  {
   "cell_type": "markdown",
   "metadata": {},
   "source": [
    "### Default Arguments\n",
    "\n",
    "Functions may also have *default* argument values.  Functions with default values are used extensively in many libraries.  The default values are assigned when the function is defined."
   ]
  },
  {
   "cell_type": "code",
   "execution_count": 8,
   "metadata": {},
   "outputs": [
    {
     "name": "stdout",
     "output_type": "stream",
     "text": [
      "With x and y: (10, 2, 20)\n",
      "With x only: (10, 1, 10)\n"
     ]
    }
   ],
   "source": [
    "# This function can be called with x and y, in which case it will return x*y;\n",
    "# or it can be called with x only, in which case it will return x*1.\n",
    "def get_multiple(x, y=1):\n",
    "    return x, y, x*y\n",
    "\n",
    "print(\"With x and y:\", get_multiple(10, 2))\n",
    "print(\"With x only:\", get_multiple(10))"
   ]
  },
  {
   "cell_type": "markdown",
   "metadata": {},
   "source": [
    "Note that you can use the name of the argument in functions, but you must either use all the names, or get the position of the argument correct in the function call:"
   ]
  },
  {
   "cell_type": "code",
   "execution_count": 9,
   "metadata": {},
   "outputs": [
    {
     "data": {
      "text/plain": [
       "((3, 1, 3), (3, 4, 12))"
      ]
     },
     "execution_count": 9,
     "metadata": {},
     "output_type": "execute_result"
    }
   ],
   "source": [
    "get_multiple(x=3), get_multiple(x=3, y=4)"
   ]
  },
  {
   "cell_type": "code",
   "execution_count": 10,
   "metadata": {},
   "outputs": [
    {
     "data": {
      "text/plain": [
       "((3, 4, 12), (3, 4, 12))"
      ]
     },
     "execution_count": 10,
     "metadata": {},
     "output_type": "execute_result"
    }
   ],
   "source": [
    "get_multiple(y=4, x=3), get_multiple(3, y=4)"
   ]
  },
  {
   "cell_type": "code",
   "execution_count": 11,
   "metadata": {},
   "outputs": [
    {
     "ename": "SyntaxError",
     "evalue": "positional argument follows keyword argument (<ipython-input-11-e773096e795e>, line 1)",
     "output_type": "error",
     "traceback": [
      "\u001b[1;36m  File \u001b[1;32m\"<ipython-input-11-e773096e795e>\"\u001b[1;36m, line \u001b[1;32m1\u001b[0m\n\u001b[1;33m    get_multiple(y=4, 3)\u001b[0m\n\u001b[1;37m                     ^\u001b[0m\n\u001b[1;31mSyntaxError\u001b[0m\u001b[1;31m:\u001b[0m positional argument follows keyword argument\n"
     ]
    }
   ],
   "source": [
    "get_multiple(y=4, 3)"
   ]
  },
  {
   "cell_type": "markdown",
   "metadata": {},
   "source": [
    "The above error is due to the improper ordering of the *positional* and *keyword* arguments.  For a discussion of this, please refer back to the section on functions in lab 0."
   ]
  },
  {
   "cell_type": "markdown",
   "metadata": {},
   "source": [
    "## Part 2: Introduction to Numpy\n",
    "Scientific Python code uses a fast array structure, called the numpy array. Those who have worked in Matlab will find this very natural.   For reference, the numpy documention can be found [here](https://docs.scipy.org/doc/numpy/reference/).  \n",
    "\n",
    "Let's make a numpy array."
   ]
  },
  {
   "cell_type": "code",
   "execution_count": 12,
   "metadata": {},
   "outputs": [
    {
     "data": {
      "text/plain": [
       "array([1, 2, 3, 4])"
      ]
     },
     "execution_count": 12,
     "metadata": {},
     "output_type": "execute_result"
    }
   ],
   "source": [
    "my_array = np.array([1, 2, 3, 4])\n",
    "my_array"
   ]
  },
  {
   "cell_type": "markdown",
   "metadata": {},
   "source": [
    "Numpy arrays are listy! Below we compute length, slice, and iterate. "
   ]
  },
  {
   "cell_type": "code",
   "execution_count": 13,
   "metadata": {},
   "outputs": [
    {
     "name": "stdout",
     "output_type": "stream",
     "text": [
      "4\n",
      "[3 4]\n",
      "1\n",
      "2\n",
      "3\n",
      "4\n"
     ]
    }
   ],
   "source": [
    "print(len(my_array))\n",
    "print(my_array[2:4])\n",
    "for ele in my_array:\n",
    "    print(ele)"
   ]
  },
  {
   "cell_type": "markdown",
   "metadata": {},
   "source": [
    "**In general you should manipulate numpy arrays by using numpy module functions** (`np.mean`, for example). This is for efficiency purposes, and a discussion follows below this section.\n",
    "\n",
    "You can calculate the mean of the array elements either by calling the method `.mean` on a numpy array or by applying the function np.mean with the numpy array as an argument."
   ]
  },
  {
   "cell_type": "code",
   "execution_count": 14,
   "metadata": {},
   "outputs": [
    {
     "name": "stdout",
     "output_type": "stream",
     "text": [
      "2.5\n",
      "2.5\n"
     ]
    }
   ],
   "source": [
    "print(my_array.mean())\n",
    "print(np.mean(my_array))"
   ]
  },
  {
   "cell_type": "markdown",
   "metadata": {},
   "source": [
    "The way we constructed the numpy array above seems redundant..after all we already had a regular python list. Indeed, it is the other ways we have to construct numpy arrays that make them super useful. \n",
    "\n",
    "There are many such numpy array *constructors*. Here are some commonly used constructors. Look them up in the documentation."
   ]
  },
  {
   "cell_type": "code",
   "execution_count": 15,
   "metadata": {},
   "outputs": [
    {
     "data": {
      "text/plain": [
       "array([1., 1., 1., 1., 1., 1., 1., 1., 1., 1.])"
      ]
     },
     "execution_count": 15,
     "metadata": {},
     "output_type": "execute_result"
    }
   ],
   "source": [
    "np.ones(10) # generates 10 floating point ones"
   ]
  },
  {
   "cell_type": "markdown",
   "metadata": {},
   "source": [
    "Numpy gains a lot of its efficiency from being typed. That is, all elements in the array have the same type, such as integer or floating point. The default type, as can be seen above, is a float of size appropriate for the machine (64 bit on a 64 bit machine)."
   ]
  },
  {
   "cell_type": "code",
   "execution_count": 16,
   "metadata": {},
   "outputs": [
    {
     "data": {
      "text/plain": [
       "8"
      ]
     },
     "execution_count": 16,
     "metadata": {},
     "output_type": "execute_result"
    }
   ],
   "source": [
    "np.dtype(float).itemsize # in bytes"
   ]
  },
  {
   "cell_type": "code",
   "execution_count": 17,
   "metadata": {},
   "outputs": [
    {
     "data": {
      "text/plain": [
       "array([1, 1, 1, 1, 1, 1, 1, 1, 1, 1])"
      ]
     },
     "execution_count": 17,
     "metadata": {},
     "output_type": "execute_result"
    }
   ],
   "source": [
    "np.ones(10, dtype='int') # generates 10 integer ones"
   ]
  },
  {
   "cell_type": "code",
   "execution_count": 18,
   "metadata": {},
   "outputs": [
    {
     "data": {
      "text/plain": [
       "array([0., 0., 0., 0., 0., 0., 0., 0., 0., 0.])"
      ]
     },
     "execution_count": 18,
     "metadata": {},
     "output_type": "execute_result"
    }
   ],
   "source": [
    "np.zeros(10)"
   ]
  },
  {
   "cell_type": "markdown",
   "metadata": {},
   "source": [
    "Often you will want random numbers. Use the `random` constructor!"
   ]
  },
  {
   "cell_type": "code",
   "execution_count": 19,
   "metadata": {},
   "outputs": [
    {
     "data": {
      "text/plain": [
       "array([0.50450374, 0.47735418, 0.98022388, 0.02024881, 0.04262519,\n",
       "       0.73400031, 0.94726148, 0.81313298, 0.74385327, 0.55066415])"
      ]
     },
     "execution_count": 19,
     "metadata": {},
     "output_type": "execute_result"
    }
   ],
   "source": [
    "np.random.random(10) # uniform on [0,1]"
   ]
  },
  {
   "cell_type": "markdown",
   "metadata": {},
   "source": [
    "You can generate random numbers from a normal distribution with mean 0 and variance 1:"
   ]
  },
  {
   "cell_type": "code",
   "execution_count": 20,
   "metadata": {},
   "outputs": [
    {
     "name": "stdout",
     "output_type": "stream",
     "text": [
      "The sample mean and standard devation are -0.049092 and 1.026285, respectively.\n"
     ]
    }
   ],
   "source": [
    "normal_array = np.random.randn(1000)\n",
    "print(\"The sample mean and standard devation are %f and %f, respectively.\" %(np.mean(normal_array), np.std(normal_array)))"
   ]
  },
  {
   "cell_type": "markdown",
   "metadata": {},
   "source": [
    "#### Numpy supports vector operations\n",
    "\n",
    "What does this mean? It means that instead of adding two arrays, element by element, you can just say: add the two arrays. Note that this behavior is very different from python lists."
   ]
  },
  {
   "cell_type": "code",
   "execution_count": 21,
   "metadata": {},
   "outputs": [
    {
     "data": {
      "text/plain": [
       "array([2., 2., 2., 2., 2.])"
      ]
     },
     "execution_count": 21,
     "metadata": {},
     "output_type": "execute_result"
    }
   ],
   "source": [
    "first = np.ones(5)\n",
    "second = np.ones(5)\n",
    "first + second"
   ]
  },
  {
   "cell_type": "code",
   "execution_count": 22,
   "metadata": {},
   "outputs": [
    {
     "data": {
      "text/plain": [
       "[1.0, 1.0, 1.0, 1.0, 1.0, 1.0, 1.0, 1.0, 1.0, 1.0]"
      ]
     },
     "execution_count": 22,
     "metadata": {},
     "output_type": "execute_result"
    }
   ],
   "source": [
    "first_list = [1., 1., 1., 1., 1.]\n",
    "second_list = [1., 1., 1., 1., 1.]\n",
    "first_list + second_list #not what u want"
   ]
  },
  {
   "cell_type": "markdown",
   "metadata": {},
   "source": [
    "On some computer chips this addition actually happens in parallel, so speedups can be high. But even on regular chips, the advantage of greater readability is important."
   ]
  },
  {
   "cell_type": "markdown",
   "metadata": {},
   "source": [
    "Numpy supports a concept known as *broadcasting*, which dictates how arrays of different sizes are combined together. There are too many rules to list here, but importantly, multiplying an array by a number multiplies each element by the number. Adding a number adds the number to each element."
   ]
  },
  {
   "cell_type": "code",
   "execution_count": 23,
   "metadata": {},
   "outputs": [
    {
     "data": {
      "text/plain": [
       "array([2., 2., 2., 2., 2.])"
      ]
     },
     "execution_count": 23,
     "metadata": {},
     "output_type": "execute_result"
    }
   ],
   "source": [
    "first + 1"
   ]
  },
  {
   "cell_type": "code",
   "execution_count": 24,
   "metadata": {},
   "outputs": [
    {
     "data": {
      "text/plain": [
       "array([5., 5., 5., 5., 5.])"
      ]
     },
     "execution_count": 24,
     "metadata": {},
     "output_type": "execute_result"
    }
   ],
   "source": [
    "first*5"
   ]
  },
  {
   "cell_type": "markdown",
   "metadata": {},
   "source": [
    "This means that if you wanted the distribution $N(5, 7)$ you could do:"
   ]
  },
  {
   "cell_type": "code",
   "execution_count": 25,
   "metadata": {},
   "outputs": [
    {
     "data": {
      "text/plain": [
       "(4.656356705250016, 7.183995837343531)"
      ]
     },
     "execution_count": 25,
     "metadata": {},
     "output_type": "execute_result"
    }
   ],
   "source": [
    "normal_5_7 = 5 + 7*normal_array\n",
    "np.mean(normal_5_7), np.std(normal_5_7)"
   ]
  },
  {
   "cell_type": "markdown",
   "metadata": {},
   "source": [
    "### 2D arrays\n",
    "Similarly, we can create two-dimensional arrays."
   ]
  },
  {
   "cell_type": "code",
   "execution_count": 26,
   "metadata": {},
   "outputs": [
    {
     "name": "stdout",
     "output_type": "stream",
     "text": [
      "[[1. 1. 1. 1.]\n",
      " [1. 1. 1. 1.]\n",
      " [1. 1. 1. 1.]]\n",
      "[[0.99349675 1.01425281 0.99597776 1.00480825]\n",
      " [0.99964629 0.98458258 0.99636603 0.98494114]\n",
      " [0.98815355 0.98667079 0.98932072 1.02014626]]\n",
      "[[1. 0. 0.]\n",
      " [0. 1. 0.]\n",
      " [0. 0. 1.]]\n"
     ]
    }
   ],
   "source": [
    "my_array2d = np.array([ [1, 2, 3, 4], [5, 6, 7, 8], [9, 10, 11, 12] ])\n",
    "\n",
    "# 3 x 4 array of ones\n",
    "ones_2d = np.ones([3, 4])\n",
    "print(ones_2d)\n",
    "# 3 x 4 array of ones with random noise\n",
    "ones_noise = ones_2d + .01*np.random.randn(3, 4)\n",
    "print(ones_noise)\n",
    "# 3 x 3 identity matrix\n",
    "my_identity = np.eye(3)\n",
    "print(my_identity)"
   ]
  },
  {
   "cell_type": "markdown",
   "metadata": {},
   "source": [
    "Like lists, numpy arrays are 0-indexed.  Thus we can access the $n$th row and the $m$th column of a two-dimensional array with the indices $[n - 1, m - 1]$."
   ]
  },
  {
   "cell_type": "code",
   "execution_count": 27,
   "metadata": {},
   "outputs": [
    {
     "name": "stdout",
     "output_type": "stream",
     "text": [
      "[[ 1  2  3  4]\n",
      " [ 5  6  7  8]\n",
      " [ 9 10 11 12]]\n"
     ]
    },
    {
     "data": {
      "text/plain": [
       "12"
      ]
     },
     "execution_count": 27,
     "metadata": {},
     "output_type": "execute_result"
    }
   ],
   "source": [
    "print(my_array2d)\n",
    "my_array2d[2, 3]"
   ]
  },
  {
   "cell_type": "markdown",
   "metadata": {},
   "source": [
    "Numpy arrays are listy!  They have set length (array dimensions), can be sliced, and can be iterated over with loop.  Below is a schematic illustrating slicing two-dimensional arrays.  \n",
    "\n",
    " <img src=\"images/2dindex_v2.png\" alt=\"Drawing\" style=\"width: 500px;\"/>"
   ]
  },
  {
   "cell_type": "markdown",
   "metadata": {},
   "source": [
    "Earlier when we generated the one-dimensional arrays of ones and random numbers, we gave `ones` and `random`  the number of elements we wanted in the arrays. In two dimensions, we need to provide the shape of the array, ie, the number of rows and columns of the array."
   ]
  },
  {
   "cell_type": "code",
   "execution_count": 28,
   "metadata": {},
   "outputs": [
    {
     "data": {
      "text/plain": [
       "array([[1., 1., 1., 1.],\n",
       "       [1., 1., 1., 1.],\n",
       "       [1., 1., 1., 1.]])"
      ]
     },
     "execution_count": 28,
     "metadata": {},
     "output_type": "execute_result"
    }
   ],
   "source": [
    "onesarray = np.ones([3,4])\n",
    "onesarray"
   ]
  },
  {
   "cell_type": "markdown",
   "metadata": {},
   "source": [
    "You can transpose the array:"
   ]
  },
  {
   "cell_type": "code",
   "execution_count": 29,
   "metadata": {},
   "outputs": [
    {
     "data": {
      "text/plain": [
       "(3, 4)"
      ]
     },
     "execution_count": 29,
     "metadata": {},
     "output_type": "execute_result"
    }
   ],
   "source": [
    "onesarray.shape"
   ]
  },
  {
   "cell_type": "code",
   "execution_count": 30,
   "metadata": {},
   "outputs": [
    {
     "data": {
      "text/plain": [
       "array([[1., 1., 1.],\n",
       "       [1., 1., 1.],\n",
       "       [1., 1., 1.],\n",
       "       [1., 1., 1.]])"
      ]
     },
     "execution_count": 30,
     "metadata": {},
     "output_type": "execute_result"
    }
   ],
   "source": [
    "onesarray.T"
   ]
  },
  {
   "cell_type": "code",
   "execution_count": 31,
   "metadata": {},
   "outputs": [
    {
     "data": {
      "text/plain": [
       "(4, 3)"
      ]
     },
     "execution_count": 31,
     "metadata": {},
     "output_type": "execute_result"
    }
   ],
   "source": [
    "onesarray.T.shape"
   ]
  },
  {
   "cell_type": "markdown",
   "metadata": {},
   "source": [
    "Matrix multiplication is accomplished by `np.dot`. The `*` operator will do element-wise multiplication."
   ]
  },
  {
   "cell_type": "code",
   "execution_count": 32,
   "metadata": {},
   "outputs": [
    {
     "name": "stdout",
     "output_type": "stream",
     "text": [
      "[[4. 4. 4.]\n",
      " [4. 4. 4.]\n",
      " [4. 4. 4.]]\n"
     ]
    },
    {
     "data": {
      "text/plain": [
       "array([[3., 3., 3., 3.],\n",
       "       [3., 3., 3., 3.],\n",
       "       [3., 3., 3., 3.],\n",
       "       [3., 3., 3., 3.]])"
      ]
     },
     "execution_count": 32,
     "metadata": {},
     "output_type": "execute_result"
    }
   ],
   "source": [
    "print(np.dot(onesarray, onesarray.T)) # 3 x 3 matrix\n",
    "np.dot(onesarray.T, onesarray) # 4 x 4 matrix"
   ]
  },
  {
   "cell_type": "markdown",
   "metadata": {},
   "source": [
    "Numpy functions will by default work on the entire array:"
   ]
  },
  {
   "cell_type": "code",
   "execution_count": 33,
   "metadata": {},
   "outputs": [
    {
     "data": {
      "text/plain": [
       "12.0"
      ]
     },
     "execution_count": 33,
     "metadata": {},
     "output_type": "execute_result"
    }
   ],
   "source": [
    "np.sum(onesarray)"
   ]
  },
  {
   "cell_type": "markdown",
   "metadata": {},
   "source": [
    "The axis 0 is the one going downwards (the $y$-axis, so to speak), whereas axis 1 is the one going across (the $x$-axis). You will often use functions such as `mean`, `sum`, with an axis."
   ]
  },
  {
   "cell_type": "code",
   "execution_count": 34,
   "metadata": {},
   "outputs": [
    {
     "data": {
      "text/plain": [
       "array([3., 3., 3., 3.])"
      ]
     },
     "execution_count": 34,
     "metadata": {},
     "output_type": "execute_result"
    }
   ],
   "source": [
    "np.sum(onesarray, axis=0)"
   ]
  },
  {
   "cell_type": "code",
   "execution_count": 35,
   "metadata": {},
   "outputs": [
    {
     "data": {
      "text/plain": [
       "array([4., 4., 4.])"
      ]
     },
     "execution_count": 35,
     "metadata": {},
     "output_type": "execute_result"
    }
   ],
   "source": [
    "np.sum(onesarray, axis=1)"
   ]
  },
  {
   "cell_type": "markdown",
   "metadata": {},
   "source": [
    "See the documentation to learn more about numpy functions as needed."
   ]
  },
  {
   "cell_type": "markdown",
   "metadata": {},
   "source": [
    ">**EXERCISE**: Verify that two-dimensional arrays are listy. Create a two-dimensional array and show that this array has set length (shape), can be sliced, and can be iterated through with a loop.  Your code should slice the array in at least two different ways, and your loop should print out the array entries."
   ]
  },
  {
   "cell_type": "code",
   "execution_count": 36,
   "metadata": {},
   "outputs": [
    {
     "name": "stdout",
     "output_type": "stream",
     "text": [
      "[[ 0.43522604 -0.35213702  0.66992483]\n",
      " [-0.1572628   0.42748152 -0.99357928]]\n",
      "(2, 3)\n",
      "[-0.1572628   0.42748152 -0.99357928]\n",
      "[ 0.66992483 -0.99357928]\n",
      "-0.9935792799847515\n",
      "[ 0.43522604 -0.35213702  0.66992483]\n",
      "[-0.1572628   0.42748152 -0.99357928]\n"
     ]
    }
   ],
   "source": [
    "# your code here\n",
    "a = np.random.randn(2, 3)\n",
    "\n",
    "print(a)\n",
    "print(a.shape)\n",
    "print(a[1]) # get the second row\n",
    "print(a[:, 2]) # get the third column\n",
    "print(a[1, 2]) # et the element in the second row, third column\n",
    "\n",
    "# print the array, row by row\n",
    "for i in range(2):\n",
    "    print(a[i])"
   ]
  },
  {
   "cell_type": "markdown",
   "metadata": {},
   "source": [
    "You should notice that access is row-by-row and one dimensional iteration gives a row. This is because `numpy` lays out memory row-wise.\n",
    "\n",
    " <img src=\"https://aaronbloomfield.github.io/pdr/slides/images/04-arrays-bigoh/2d-array-layout.png\" alt=\"Drawing\" style=\"width: 500px;\"/>\n",
    " \n",
    "(from https://aaronbloomfield.github.io)"
   ]
  },
  {
   "cell_type": "markdown",
   "metadata": {},
   "source": [
    "An often seen idiom allocates a two-dimensional array, and then fills in one-dimensional arrays from some function:"
   ]
  },
  {
   "cell_type": "code",
   "execution_count": 37,
   "metadata": {},
   "outputs": [
    {
     "data": {
      "text/plain": [
       "array([[0., 0.],\n",
       "       [0., 0.],\n",
       "       [0., 0.],\n",
       "       [0., 0.],\n",
       "       [0., 0.]])"
      ]
     },
     "execution_count": 37,
     "metadata": {},
     "output_type": "execute_result"
    }
   ],
   "source": [
    "twod = np.zeros((5, 2))\n",
    "twod"
   ]
  },
  {
   "cell_type": "code",
   "execution_count": 38,
   "metadata": {},
   "outputs": [
    {
     "data": {
      "text/plain": [
       "array([[0.67297344, 0.93277477],\n",
       "       [0.38339969, 0.06928749],\n",
       "       [0.05875253, 0.3476878 ],\n",
       "       [0.93275508, 0.12046317],\n",
       "       [0.51454718, 0.10092435]])"
      ]
     },
     "execution_count": 38,
     "metadata": {},
     "output_type": "execute_result"
    }
   ],
   "source": [
    "for i in range(twod.shape[0]):\n",
    "    twod[i, :] = np.random.random(2)\n",
    "twod"
   ]
  },
  {
   "cell_type": "markdown",
   "metadata": {},
   "source": [
    "In this and many other cases, it may be faster to simply do:"
   ]
  },
  {
   "cell_type": "code",
   "execution_count": 39,
   "metadata": {},
   "outputs": [
    {
     "data": {
      "text/plain": [
       "array([[0.46416976, 0.93301087],\n",
       "       [0.91872937, 0.13197345],\n",
       "       [0.01179107, 0.77532716],\n",
       "       [0.81085802, 0.27539542],\n",
       "       [0.69882679, 0.51133522]])"
      ]
     },
     "execution_count": 39,
     "metadata": {},
     "output_type": "execute_result"
    }
   ],
   "source": [
    "twod = np.random.random(size=(5,2))\n",
    "twod"
   ]
  },
  {
   "cell_type": "markdown",
   "metadata": {},
   "source": [
    "### Numpy Arrays vs. Python Lists?\n",
    "\n",
    "1. Why the need for numpy arrays?  Can't we just use Python lists?\n",
    "2. Iterating over numpy arrays is slow. Slicing is faster\n",
    "\n",
    "In the last lab we said that Python lists may contain items of different types. This flexibility comes at a price: Python lists store *pointers* to memory locations.  On the other hand, numpy arrays are typed, where the default type is floating point.  Because of this, the system knows how much memory to allocate, and if you ask for an array of size 100, it will allocate one hundred contiguous spots in memory, where the size of each spot is based on the type.  This makes access extremely fast.\n",
    "\n",
    "<img src=\"https://jakevdp.github.io/PythonDataScienceHandbook/figures/array_vs_list.png\" alt=\"Drawing\" style=\"width: 500px;\"/>\n",
    "\n",
    "(from the book below)\n",
    "\n",
    "BUT, iteration slows things down again. In general you should not access numpy array elements by iteration.  This is because of type conversion.  Numpy stores integers and floating points in C-language format.  When you operate on array elements through iteration, Python needs to convert that element to a Python int or float, which is a more complex beast (a `struct` in C jargon).  This has a cost.\n",
    "\n",
    "<img src=\"https://jakevdp.github.io/PythonDataScienceHandbook/figures/cint_vs_pyint.png\" alt=\"Drawing\" style=\"width: 500px;\"/>\n",
    "\n",
    "(from the book below)\n",
    "\n",
    "If you want to know more, we will suggest that you read [this]() from [Jake Vanderplas's Data Science Handbook](https://jakevdp.github.io/PythonDataScienceHandbook/). You will find that book an incredible resource for this class.\n",
    "\n",
    "Why is slicing faster? The reason is technical: slicing provides a view onto the memory occupied by a numpy array, instead of creating a new array. That is the reason the code above this cell works nicely as well. However, if you iterate over a slice, then you have gone back to the slow access.\n",
    "\n",
    "By contrast, functions such as `np.dot` are implemented at C-level, do not do this type conversion, and access contiguous memory. If you want this kind of access in Python, use the struct module or Cython. Indeed many fast algorithms in numpy, pandas, and C are either implemented at the C-level, or employ Cython."
   ]
  },
  {
   "cell_type": "markdown",
   "metadata": {},
   "source": [
    "## Part 3:  Introduction to Pandas \n",
    "\n",
    "Often data is stored in comma separated values (CSV) files.    For the remainder of this lab, we'll be working with [automobile data](https://stat.ethz.ch/R-manual/R-devel/library/datasets/html/mtcars.html), where we've extracted relevant parts below.\n",
    "\n",
    "Note that CSV files can be output by any spreadsheet software, and are plain text, hence are a great way to share data. "
   ]
  },
  {
   "cell_type": "markdown",
   "metadata": {},
   "source": [
    "### Importing data with numpy\n",
    "Below we'll read in automobile data from a CSV file, storing the data in Python's memory first as a numpy array.  \n",
    "\n",
    "````` \n",
    "Description\n",
    "The data was extracted from the 1974 Motor Trend US magazine, and comprises fuel consumption and ten aspects of automobile design and performance for 32 automobiles (1973–74 models).\n",
    "\n",
    "Format\n",
    "\n",
    "A data frame with 32 observations on 11 variables.\n",
    "\n",
    "[, 1]\tmpg\t     Miles/(US) gallon\n",
    "[, 2]\tcyl\t     Number of cylinders\n",
    "[, 3]\tdisp\t Displacement (cu.in.)\n",
    "[, 4]\thp\t     Gross horsepower\n",
    "[, 5]\tdrat\t Rear axle ratio\n",
    "[, 6]\twt\t     Weight (1000 lbs)\n",
    "[, 7]\tqsec\t 1/4 mile time\n",
    "[, 8]\tvs\t     V/S\n",
    "[, 9]\tam\t     Transmission (0 = automatic, 1 = manual)\n",
    "[,10]\tgear\t Number of forward gears\n",
    "[,11]\tcarb\t Number of carburetors\n",
    "        \n",
    "Source\n",
    "Henderson and Velleman (1981), Building multiple regression models interactively. Biometrics, 37, 391–411.\n",
    "`````"
   ]
  },
  {
   "cell_type": "markdown",
   "metadata": {},
   "source": [
    ">EXERCISE: `genfromtxt` is a numpy function that can be used to load text data.  Write code that loads the data into a two-dimensional array called `arrcars`, prints out the shape and the first two rows of of `arrcars`."
   ]
  },
  {
   "cell_type": "code",
   "execution_count": 40,
   "metadata": {},
   "outputs": [
    {
     "name": "stdout",
     "output_type": "stream",
     "text": [
      "C:\\Users\\jose\\desktop\\a-2017-master\\labs\\lab1_numstack\\data\n"
     ]
    }
   ],
   "source": [
    "%cd desktop\\a-2017-master\\labs\\lab1_numstack\\data"
   ]
  },
  {
   "cell_type": "code",
   "execution_count": 41,
   "metadata": {},
   "outputs": [
    {
     "name": "stdout",
     "output_type": "stream",
     "text": [
      "(32,)\n",
      "[(nan, 21., 6., 160., 110., 3.9, 2.62 , 16.46, 0., 1., 4., 4.)\n",
      " (nan, 21., 6., 160., 110., 3.9, 2.875, 17.02, 0., 1., 4., 4.)]\n"
     ]
    }
   ],
   "source": [
    "# your code here\n",
    "arrcars = np.genfromtxt('mtcars.csv', delimiter = ',', names = True)\n",
    "print(arrcars.shape)\n",
    "print(arrcars[:2])"
   ]
  },
  {
   "cell_type": "markdown",
   "metadata": {},
   "source": [
    "You will see that reading the data into a numpy array is entirely clumsy.  "
   ]
  },
  {
   "cell_type": "markdown",
   "metadata": {},
   "source": [
    "\n",
    "We'd like a data structure that can represent the columns in the data above by their name. In particular, we want a structure that can easily store variables of different types, that stores column names, and that we can reference by column name as well as by indexed position.  And it would be nice this data structure came with built-in functions that we can use to manipulate it. \n",
    "\n",
    "Pandas is a package/library that does all of this!  The library is built on top of numpy.  There are two basic pandas objects, *series* and *dataframes*, which can be thought of as enhanced versions of 1D and 2D numpy arrays, respectively.  Indeed Pandas attempts to keep all the efficiencies that `numpy` gives us.\n",
    "\n",
    "For reference, here is a useful pandas [cheat sheet](https://drive.google.com/folderview?id=0ByIrJAE4KMTtaGhRcXkxNHhmY2M&usp=sharing) and the pandas [documentation](https://pandas.pydata.org/pandas-docs/stable/)."
   ]
  },
  {
   "cell_type": "markdown",
   "metadata": {},
   "source": [
    "### Importing data with pandas\n",
    "\n",
    "Now let's read in our automobile data as a pandas *dataframe* structure.  "
   ]
  },
  {
   "cell_type": "code",
   "execution_count": 42,
   "metadata": {},
   "outputs": [
    {
     "data": {
      "text/plain": [
       "pandas.core.frame.DataFrame"
      ]
     },
     "execution_count": 42,
     "metadata": {},
     "output_type": "execute_result"
    }
   ],
   "source": [
    "# Read in the csv files\n",
    "dfcars=pd.read_csv(\"mtcars.csv\")\n",
    "type(dfcars)"
   ]
  },
  {
   "cell_type": "code",
   "execution_count": 43,
   "metadata": {},
   "outputs": [
    {
     "data": {
      "text/html": [
       "<div>\n",
       "<style scoped>\n",
       "    .dataframe tbody tr th:only-of-type {\n",
       "        vertical-align: middle;\n",
       "    }\n",
       "\n",
       "    .dataframe tbody tr th {\n",
       "        vertical-align: top;\n",
       "    }\n",
       "\n",
       "    .dataframe thead th {\n",
       "        text-align: right;\n",
       "    }\n",
       "</style>\n",
       "<table border=\"1\" class=\"dataframe\">\n",
       "  <thead>\n",
       "    <tr style=\"text-align: right;\">\n",
       "      <th></th>\n",
       "      <th>Unnamed: 0</th>\n",
       "      <th>mpg</th>\n",
       "      <th>cyl</th>\n",
       "      <th>disp</th>\n",
       "      <th>hp</th>\n",
       "      <th>drat</th>\n",
       "      <th>wt</th>\n",
       "      <th>qsec</th>\n",
       "      <th>vs</th>\n",
       "      <th>am</th>\n",
       "      <th>gear</th>\n",
       "      <th>carb</th>\n",
       "    </tr>\n",
       "  </thead>\n",
       "  <tbody>\n",
       "    <tr>\n",
       "      <th>0</th>\n",
       "      <td>Mazda RX4</td>\n",
       "      <td>21.0</td>\n",
       "      <td>6</td>\n",
       "      <td>160.0</td>\n",
       "      <td>110</td>\n",
       "      <td>3.90</td>\n",
       "      <td>2.620</td>\n",
       "      <td>16.46</td>\n",
       "      <td>0</td>\n",
       "      <td>1</td>\n",
       "      <td>4</td>\n",
       "      <td>4</td>\n",
       "    </tr>\n",
       "    <tr>\n",
       "      <th>1</th>\n",
       "      <td>Mazda RX4 Wag</td>\n",
       "      <td>21.0</td>\n",
       "      <td>6</td>\n",
       "      <td>160.0</td>\n",
       "      <td>110</td>\n",
       "      <td>3.90</td>\n",
       "      <td>2.875</td>\n",
       "      <td>17.02</td>\n",
       "      <td>0</td>\n",
       "      <td>1</td>\n",
       "      <td>4</td>\n",
       "      <td>4</td>\n",
       "    </tr>\n",
       "    <tr>\n",
       "      <th>2</th>\n",
       "      <td>Datsun 710</td>\n",
       "      <td>22.8</td>\n",
       "      <td>4</td>\n",
       "      <td>108.0</td>\n",
       "      <td>93</td>\n",
       "      <td>3.85</td>\n",
       "      <td>2.320</td>\n",
       "      <td>18.61</td>\n",
       "      <td>1</td>\n",
       "      <td>1</td>\n",
       "      <td>4</td>\n",
       "      <td>1</td>\n",
       "    </tr>\n",
       "    <tr>\n",
       "      <th>3</th>\n",
       "      <td>Hornet 4 Drive</td>\n",
       "      <td>21.4</td>\n",
       "      <td>6</td>\n",
       "      <td>258.0</td>\n",
       "      <td>110</td>\n",
       "      <td>3.08</td>\n",
       "      <td>3.215</td>\n",
       "      <td>19.44</td>\n",
       "      <td>1</td>\n",
       "      <td>0</td>\n",
       "      <td>3</td>\n",
       "      <td>1</td>\n",
       "    </tr>\n",
       "    <tr>\n",
       "      <th>4</th>\n",
       "      <td>Hornet Sportabout</td>\n",
       "      <td>18.7</td>\n",
       "      <td>8</td>\n",
       "      <td>360.0</td>\n",
       "      <td>175</td>\n",
       "      <td>3.15</td>\n",
       "      <td>3.440</td>\n",
       "      <td>17.02</td>\n",
       "      <td>0</td>\n",
       "      <td>0</td>\n",
       "      <td>3</td>\n",
       "      <td>2</td>\n",
       "    </tr>\n",
       "  </tbody>\n",
       "</table>\n",
       "</div>"
      ],
      "text/plain": [
       "          Unnamed: 0   mpg  cyl   disp   hp  drat     wt   qsec  vs  am  gear  carb\n",
       "0          Mazda RX4  21.0    6  160.0  110  3.90  2.620  16.46   0   1     4     4\n",
       "1      Mazda RX4 Wag  21.0    6  160.0  110  3.90  2.875  17.02   0   1     4     4\n",
       "2         Datsun 710  22.8    4  108.0   93  3.85  2.320  18.61   1   1     4     1\n",
       "3     Hornet 4 Drive  21.4    6  258.0  110  3.08  3.215  19.44   1   0     3     1\n",
       "4  Hornet Sportabout  18.7    8  360.0  175  3.15  3.440  17.02   0   0     3     2"
      ]
     },
     "execution_count": 43,
     "metadata": {},
     "output_type": "execute_result"
    }
   ],
   "source": [
    "dfcars.head()"
   ]
  },
  {
   "cell_type": "markdown",
   "metadata": {},
   "source": [
    "Wow!  That was easier and the output is nicer.  What we have now is a spreadsheet with indexed rows and named columns, called a *dataframe* in pandas.  `dfcars` is an *instance* of the pd.DataFrame *class*, created by calling the pd.read_csv \"constructor function\".\n",
    "\n",
    "The take-away is that `dfcars` is a dataframe object, and it has methods (functions) belonging to it. For example, `df.head()` is a method that shows the first 5 rows of the dataframe.\n",
    "\n",
    "A pandas dataframe is a set of columns pasted together into a spreadsheet, as shown in the schematic below, which is taken from the cheatsheet above.  The columns in pandas are called *series* objects.\n",
    "\n",
    "![](images/pandastruct.png)"
   ]
  },
  {
   "cell_type": "markdown",
   "metadata": {},
   "source": [
    "Let's look again at the first five rows of `dfcars`.  "
   ]
  },
  {
   "cell_type": "code",
   "execution_count": 44,
   "metadata": {},
   "outputs": [
    {
     "data": {
      "text/html": [
       "<div>\n",
       "<style scoped>\n",
       "    .dataframe tbody tr th:only-of-type {\n",
       "        vertical-align: middle;\n",
       "    }\n",
       "\n",
       "    .dataframe tbody tr th {\n",
       "        vertical-align: top;\n",
       "    }\n",
       "\n",
       "    .dataframe thead th {\n",
       "        text-align: right;\n",
       "    }\n",
       "</style>\n",
       "<table border=\"1\" class=\"dataframe\">\n",
       "  <thead>\n",
       "    <tr style=\"text-align: right;\">\n",
       "      <th></th>\n",
       "      <th>Unnamed: 0</th>\n",
       "      <th>mpg</th>\n",
       "      <th>cyl</th>\n",
       "      <th>disp</th>\n",
       "      <th>hp</th>\n",
       "      <th>drat</th>\n",
       "      <th>wt</th>\n",
       "      <th>qsec</th>\n",
       "      <th>vs</th>\n",
       "      <th>am</th>\n",
       "      <th>gear</th>\n",
       "      <th>carb</th>\n",
       "    </tr>\n",
       "  </thead>\n",
       "  <tbody>\n",
       "    <tr>\n",
       "      <th>0</th>\n",
       "      <td>Mazda RX4</td>\n",
       "      <td>21.0</td>\n",
       "      <td>6</td>\n",
       "      <td>160.0</td>\n",
       "      <td>110</td>\n",
       "      <td>3.90</td>\n",
       "      <td>2.620</td>\n",
       "      <td>16.46</td>\n",
       "      <td>0</td>\n",
       "      <td>1</td>\n",
       "      <td>4</td>\n",
       "      <td>4</td>\n",
       "    </tr>\n",
       "    <tr>\n",
       "      <th>1</th>\n",
       "      <td>Mazda RX4 Wag</td>\n",
       "      <td>21.0</td>\n",
       "      <td>6</td>\n",
       "      <td>160.0</td>\n",
       "      <td>110</td>\n",
       "      <td>3.90</td>\n",
       "      <td>2.875</td>\n",
       "      <td>17.02</td>\n",
       "      <td>0</td>\n",
       "      <td>1</td>\n",
       "      <td>4</td>\n",
       "      <td>4</td>\n",
       "    </tr>\n",
       "    <tr>\n",
       "      <th>2</th>\n",
       "      <td>Datsun 710</td>\n",
       "      <td>22.8</td>\n",
       "      <td>4</td>\n",
       "      <td>108.0</td>\n",
       "      <td>93</td>\n",
       "      <td>3.85</td>\n",
       "      <td>2.320</td>\n",
       "      <td>18.61</td>\n",
       "      <td>1</td>\n",
       "      <td>1</td>\n",
       "      <td>4</td>\n",
       "      <td>1</td>\n",
       "    </tr>\n",
       "    <tr>\n",
       "      <th>3</th>\n",
       "      <td>Hornet 4 Drive</td>\n",
       "      <td>21.4</td>\n",
       "      <td>6</td>\n",
       "      <td>258.0</td>\n",
       "      <td>110</td>\n",
       "      <td>3.08</td>\n",
       "      <td>3.215</td>\n",
       "      <td>19.44</td>\n",
       "      <td>1</td>\n",
       "      <td>0</td>\n",
       "      <td>3</td>\n",
       "      <td>1</td>\n",
       "    </tr>\n",
       "    <tr>\n",
       "      <th>4</th>\n",
       "      <td>Hornet Sportabout</td>\n",
       "      <td>18.7</td>\n",
       "      <td>8</td>\n",
       "      <td>360.0</td>\n",
       "      <td>175</td>\n",
       "      <td>3.15</td>\n",
       "      <td>3.440</td>\n",
       "      <td>17.02</td>\n",
       "      <td>0</td>\n",
       "      <td>0</td>\n",
       "      <td>3</td>\n",
       "      <td>2</td>\n",
       "    </tr>\n",
       "  </tbody>\n",
       "</table>\n",
       "</div>"
      ],
      "text/plain": [
       "          Unnamed: 0   mpg  cyl   disp   hp  drat     wt   qsec  vs  am  gear  carb\n",
       "0          Mazda RX4  21.0    6  160.0  110  3.90  2.620  16.46   0   1     4     4\n",
       "1      Mazda RX4 Wag  21.0    6  160.0  110  3.90  2.875  17.02   0   1     4     4\n",
       "2         Datsun 710  22.8    4  108.0   93  3.85  2.320  18.61   1   1     4     1\n",
       "3     Hornet 4 Drive  21.4    6  258.0  110  3.08  3.215  19.44   1   0     3     1\n",
       "4  Hornet Sportabout  18.7    8  360.0  175  3.15  3.440  17.02   0   0     3     2"
      ]
     },
     "execution_count": 44,
     "metadata": {},
     "output_type": "execute_result"
    }
   ],
   "source": [
    "dfcars.head()"
   ]
  },
  {
   "cell_type": "markdown",
   "metadata": {},
   "source": [
    "Notice the poorly named first column: \"Unnamed: 0\". Why did that happen?\n",
    "\n",
    "The first column, which seems to be the name of the car, does not have a name. Here are the first 3 lines of the file:"
   ]
  },
  {
   "cell_type": "markdown",
   "metadata": {},
   "source": [
    "```    \n",
    "\"\",\"mpg\",\"cyl\",\"disp\",\"hp\",\"drat\",\"wt\",\"qsec\",\"vs\",\"am\",\"gear\",\"carb\"\n",
    "\"Mazda RX4\",21,6,160,110,3.9,2.62,16.46,0,1,4,4\n",
    "\"Mazda RX4 Wag\",21,6,160,110,3.9,2.875,17.02,0,1,4,4\n",
    "```\n",
    "\n",
    "Lets **clean** that up:"
   ]
  },
  {
   "cell_type": "code",
   "execution_count": 45,
   "metadata": {
    "scrolled": false
   },
   "outputs": [
    {
     "data": {
      "text/html": [
       "<div>\n",
       "<style scoped>\n",
       "    .dataframe tbody tr th:only-of-type {\n",
       "        vertical-align: middle;\n",
       "    }\n",
       "\n",
       "    .dataframe tbody tr th {\n",
       "        vertical-align: top;\n",
       "    }\n",
       "\n",
       "    .dataframe thead th {\n",
       "        text-align: right;\n",
       "    }\n",
       "</style>\n",
       "<table border=\"1\" class=\"dataframe\">\n",
       "  <thead>\n",
       "    <tr style=\"text-align: right;\">\n",
       "      <th></th>\n",
       "      <th>name</th>\n",
       "      <th>mpg</th>\n",
       "      <th>cyl</th>\n",
       "      <th>disp</th>\n",
       "      <th>hp</th>\n",
       "      <th>drat</th>\n",
       "      <th>wt</th>\n",
       "      <th>qsec</th>\n",
       "      <th>vs</th>\n",
       "      <th>am</th>\n",
       "      <th>gear</th>\n",
       "      <th>carb</th>\n",
       "    </tr>\n",
       "  </thead>\n",
       "  <tbody>\n",
       "    <tr>\n",
       "      <th>0</th>\n",
       "      <td>Mazda RX4</td>\n",
       "      <td>21.0</td>\n",
       "      <td>6</td>\n",
       "      <td>160.0</td>\n",
       "      <td>110</td>\n",
       "      <td>3.90</td>\n",
       "      <td>2.620</td>\n",
       "      <td>16.46</td>\n",
       "      <td>0</td>\n",
       "      <td>1</td>\n",
       "      <td>4</td>\n",
       "      <td>4</td>\n",
       "    </tr>\n",
       "    <tr>\n",
       "      <th>1</th>\n",
       "      <td>Mazda RX4 Wag</td>\n",
       "      <td>21.0</td>\n",
       "      <td>6</td>\n",
       "      <td>160.0</td>\n",
       "      <td>110</td>\n",
       "      <td>3.90</td>\n",
       "      <td>2.875</td>\n",
       "      <td>17.02</td>\n",
       "      <td>0</td>\n",
       "      <td>1</td>\n",
       "      <td>4</td>\n",
       "      <td>4</td>\n",
       "    </tr>\n",
       "    <tr>\n",
       "      <th>2</th>\n",
       "      <td>Datsun 710</td>\n",
       "      <td>22.8</td>\n",
       "      <td>4</td>\n",
       "      <td>108.0</td>\n",
       "      <td>93</td>\n",
       "      <td>3.85</td>\n",
       "      <td>2.320</td>\n",
       "      <td>18.61</td>\n",
       "      <td>1</td>\n",
       "      <td>1</td>\n",
       "      <td>4</td>\n",
       "      <td>1</td>\n",
       "    </tr>\n",
       "    <tr>\n",
       "      <th>3</th>\n",
       "      <td>Hornet 4 Drive</td>\n",
       "      <td>21.4</td>\n",
       "      <td>6</td>\n",
       "      <td>258.0</td>\n",
       "      <td>110</td>\n",
       "      <td>3.08</td>\n",
       "      <td>3.215</td>\n",
       "      <td>19.44</td>\n",
       "      <td>1</td>\n",
       "      <td>0</td>\n",
       "      <td>3</td>\n",
       "      <td>1</td>\n",
       "    </tr>\n",
       "    <tr>\n",
       "      <th>4</th>\n",
       "      <td>Hornet Sportabout</td>\n",
       "      <td>18.7</td>\n",
       "      <td>8</td>\n",
       "      <td>360.0</td>\n",
       "      <td>175</td>\n",
       "      <td>3.15</td>\n",
       "      <td>3.440</td>\n",
       "      <td>17.02</td>\n",
       "      <td>0</td>\n",
       "      <td>0</td>\n",
       "      <td>3</td>\n",
       "      <td>2</td>\n",
       "    </tr>\n",
       "  </tbody>\n",
       "</table>\n",
       "</div>"
      ],
      "text/plain": [
       "                name   mpg  cyl   disp   hp  drat     wt   qsec  vs  am  gear  carb\n",
       "0          Mazda RX4  21.0    6  160.0  110  3.90  2.620  16.46   0   1     4     4\n",
       "1      Mazda RX4 Wag  21.0    6  160.0  110  3.90  2.875  17.02   0   1     4     4\n",
       "2         Datsun 710  22.8    4  108.0   93  3.85  2.320  18.61   1   1     4     1\n",
       "3     Hornet 4 Drive  21.4    6  258.0  110  3.08  3.215  19.44   1   0     3     1\n",
       "4  Hornet Sportabout  18.7    8  360.0  175  3.15  3.440  17.02   0   0     3     2"
      ]
     },
     "execution_count": 45,
     "metadata": {},
     "output_type": "execute_result"
    }
   ],
   "source": [
    "dfcars = dfcars.rename(columns={\"Unnamed: 0\": \"name\"})\n",
    "dfcars.head()"
   ]
  },
  {
   "cell_type": "markdown",
   "metadata": {},
   "source": [
    "In the above, the argument `columns = {\"Unnamed: 0\": \"name\"}` of `rename` changed the name of the first column in the dataframe from `Unnamed: 0` to `name`. \n",
    "\n",
    "To access a *series* (column), you can use either dictionary syntax or instance-variable syntax."
   ]
  },
  {
   "cell_type": "code",
   "execution_count": 46,
   "metadata": {},
   "outputs": [
    {
     "data": {
      "text/plain": [
       "0     21.0\n",
       "1     21.0\n",
       "2     22.8\n",
       "3     21.4\n",
       "4     18.7\n",
       "5     18.1\n",
       "6     14.3\n",
       "7     24.4\n",
       "8     22.8\n",
       "9     19.2\n",
       "10    17.8\n",
       "11    16.4\n",
       "12    17.3\n",
       "13    15.2\n",
       "14    10.4\n",
       "15    10.4\n",
       "16    14.7\n",
       "17    32.4\n",
       "18    30.4\n",
       "19    33.9\n",
       "20    21.5\n",
       "21    15.5\n",
       "22    15.2\n",
       "23    13.3\n",
       "24    19.2\n",
       "25    27.3\n",
       "26    26.0\n",
       "27    30.4\n",
       "28    15.8\n",
       "29    19.7\n",
       "30    15.0\n",
       "31    21.4\n",
       "Name: mpg, dtype: float64"
      ]
     },
     "execution_count": 46,
     "metadata": {},
     "output_type": "execute_result"
    }
   ],
   "source": [
    "dfcars.mpg"
   ]
  },
  {
   "cell_type": "markdown",
   "metadata": {},
   "source": [
    "You can get a numpy array of values from the Pandas Series:"
   ]
  },
  {
   "cell_type": "code",
   "execution_count": 47,
   "metadata": {},
   "outputs": [
    {
     "data": {
      "text/plain": [
       "array([21. , 21. , 22.8, 21.4, 18.7, 18.1, 14.3, 24.4, 22.8, 19.2, 17.8,\n",
       "       16.4, 17.3, 15.2, 10.4, 10.4, 14.7, 32.4, 30.4, 33.9, 21.5, 15.5,\n",
       "       15.2, 13.3, 19.2, 27.3, 26. , 30.4, 15.8, 19.7, 15. , 21.4])"
      ]
     },
     "execution_count": 47,
     "metadata": {},
     "output_type": "execute_result"
    }
   ],
   "source": [
    "dfcars.mpg.values"
   ]
  },
  {
   "cell_type": "markdown",
   "metadata": {},
   "source": [
    "And we can produce a histogram from these values"
   ]
  },
  {
   "cell_type": "code",
   "execution_count": 48,
   "metadata": {
    "collapsed": true
   },
   "outputs": [
    {
     "data": {
      "text/plain": [
       "\u001b[1;31mSignature:\u001b[0m \u001b[0mplt\u001b[0m\u001b[1;33m.\u001b[0m\u001b[0mhist\u001b[0m\u001b[1;33m(\u001b[0m\u001b[0mx\u001b[0m\u001b[1;33m,\u001b[0m \u001b[0mbins\u001b[0m\u001b[1;33m=\u001b[0m\u001b[1;32mNone\u001b[0m\u001b[1;33m,\u001b[0m \u001b[0mrange\u001b[0m\u001b[1;33m=\u001b[0m\u001b[1;32mNone\u001b[0m\u001b[1;33m,\u001b[0m \u001b[0mdensity\u001b[0m\u001b[1;33m=\u001b[0m\u001b[1;32mNone\u001b[0m\u001b[1;33m,\u001b[0m \u001b[0mweights\u001b[0m\u001b[1;33m=\u001b[0m\u001b[1;32mNone\u001b[0m\u001b[1;33m,\u001b[0m \u001b[0mcumulative\u001b[0m\u001b[1;33m=\u001b[0m\u001b[1;32mFalse\u001b[0m\u001b[1;33m,\u001b[0m \u001b[0mbottom\u001b[0m\u001b[1;33m=\u001b[0m\u001b[1;32mNone\u001b[0m\u001b[1;33m,\u001b[0m \u001b[0mhisttype\u001b[0m\u001b[1;33m=\u001b[0m\u001b[1;34m'bar'\u001b[0m\u001b[1;33m,\u001b[0m \u001b[0malign\u001b[0m\u001b[1;33m=\u001b[0m\u001b[1;34m'mid'\u001b[0m\u001b[1;33m,\u001b[0m \u001b[0morientation\u001b[0m\u001b[1;33m=\u001b[0m\u001b[1;34m'vertical'\u001b[0m\u001b[1;33m,\u001b[0m \u001b[0mrwidth\u001b[0m\u001b[1;33m=\u001b[0m\u001b[1;32mNone\u001b[0m\u001b[1;33m,\u001b[0m \u001b[0mlog\u001b[0m\u001b[1;33m=\u001b[0m\u001b[1;32mFalse\u001b[0m\u001b[1;33m,\u001b[0m \u001b[0mcolor\u001b[0m\u001b[1;33m=\u001b[0m\u001b[1;32mNone\u001b[0m\u001b[1;33m,\u001b[0m \u001b[0mlabel\u001b[0m\u001b[1;33m=\u001b[0m\u001b[1;32mNone\u001b[0m\u001b[1;33m,\u001b[0m \u001b[0mstacked\u001b[0m\u001b[1;33m=\u001b[0m\u001b[1;32mFalse\u001b[0m\u001b[1;33m,\u001b[0m \u001b[0mnormed\u001b[0m\u001b[1;33m=\u001b[0m\u001b[1;32mNone\u001b[0m\u001b[1;33m,\u001b[0m \u001b[0mhold\u001b[0m\u001b[1;33m=\u001b[0m\u001b[1;32mNone\u001b[0m\u001b[1;33m,\u001b[0m \u001b[0mdata\u001b[0m\u001b[1;33m=\u001b[0m\u001b[1;32mNone\u001b[0m\u001b[1;33m,\u001b[0m \u001b[1;33m**\u001b[0m\u001b[0mkwargs\u001b[0m\u001b[1;33m)\u001b[0m\u001b[1;33m\u001b[0m\u001b[0m\n",
       "\u001b[1;31mDocstring:\u001b[0m\n",
       "Plot a histogram.\n",
       "\n",
       "Compute and draw the histogram of *x*. The return value is a\n",
       "tuple (*n*, *bins*, *patches*) or ([*n0*, *n1*, ...], *bins*,\n",
       "[*patches0*, *patches1*,...]) if the input contains multiple\n",
       "data.\n",
       "\n",
       "Multiple data can be provided via *x* as a list of datasets\n",
       "of potentially different length ([*x0*, *x1*, ...]), or as\n",
       "a 2-D ndarray in which each column is a dataset.  Note that\n",
       "the ndarray form is transposed relative to the list form.\n",
       "\n",
       "Masked arrays are not supported at present.\n",
       "\n",
       "Parameters\n",
       "----------\n",
       "x : (n,) array or sequence of (n,) arrays\n",
       "    Input values, this takes either a single array or a sequency of\n",
       "    arrays which are not required to be of the same length\n",
       "\n",
       "bins : integer or sequence or 'auto', optional\n",
       "    If an integer is given, ``bins + 1`` bin edges are calculated and\n",
       "    returned, consistent with :func:`numpy.histogram`.\n",
       "\n",
       "    If `bins` is a sequence, gives bin edges, including left edge of\n",
       "    first bin and right edge of last bin.  In this case, `bins` is\n",
       "    returned unmodified.\n",
       "\n",
       "    All but the last (righthand-most) bin is half-open.  In other\n",
       "    words, if `bins` is::\n",
       "\n",
       "        [1, 2, 3, 4]\n",
       "\n",
       "    then the first bin is ``[1, 2)`` (including 1, but excluding 2) and\n",
       "    the second ``[2, 3)``.  The last bin, however, is ``[3, 4]``, which\n",
       "    *includes* 4.\n",
       "\n",
       "    Unequally spaced bins are supported if *bins* is a sequence.\n",
       "\n",
       "    If Numpy 1.11 is installed, may also be ``'auto'``.\n",
       "\n",
       "    Default is taken from the rcParam ``hist.bins``.\n",
       "\n",
       "range : tuple or None, optional\n",
       "    The lower and upper range of the bins. Lower and upper outliers\n",
       "    are ignored. If not provided, *range* is ``(x.min(), x.max())``.\n",
       "    Range has no effect if *bins* is a sequence.\n",
       "\n",
       "    If *bins* is a sequence or *range* is specified, autoscaling\n",
       "    is based on the specified bin range instead of the\n",
       "    range of x.\n",
       "\n",
       "    Default is ``None``\n",
       "\n",
       "density : boolean, optional\n",
       "    If ``True``, the first element of the return tuple will\n",
       "    be the counts normalized to form a probability density, i.e.,\n",
       "    the area (or integral) under the histogram will sum to 1.\n",
       "    This is achieved by dividing the count by the number of\n",
       "    observations times the bin width and not dividing by the total\n",
       "    number of observations. If *stacked* is also ``True``, the sum of\n",
       "    the histograms is normalized to 1.\n",
       "\n",
       "    Default is ``None`` for both *normed* and *density*. If either is\n",
       "    set, then that value will be used. If neither are set, then the\n",
       "    args will be treated as ``False``.\n",
       "\n",
       "    If both *density* and *normed* are set an error is raised.\n",
       "\n",
       "weights : (n, ) array_like or None, optional\n",
       "    An array of weights, of the same shape as *x*.  Each value in *x*\n",
       "    only contributes its associated weight towards the bin count\n",
       "    (instead of 1).  If *normed* or *density* is ``True``,\n",
       "    the weights are normalized, so that the integral of the density\n",
       "    over the range remains 1.\n",
       "\n",
       "    Default is ``None``\n",
       "\n",
       "cumulative : boolean, optional\n",
       "    If ``True``, then a histogram is computed where each bin gives the\n",
       "    counts in that bin plus all bins for smaller values. The last bin\n",
       "    gives the total number of datapoints. If *normed* or *density*\n",
       "    is also ``True`` then the histogram is normalized such that the\n",
       "    last bin equals 1. If *cumulative* evaluates to less than 0\n",
       "    (e.g., -1), the direction of accumulation is reversed.\n",
       "    In this case, if *normed* and/or *density* is also ``True``, then\n",
       "    the histogram is normalized such that the first bin equals 1.\n",
       "\n",
       "    Default is ``False``\n",
       "\n",
       "bottom : array_like, scalar, or None\n",
       "    Location of the bottom baseline of each bin.  If a scalar,\n",
       "    the base line for each bin is shifted by the same amount.\n",
       "    If an array, each bin is shifted independently and the length\n",
       "    of bottom must match the number of bins.  If None, defaults to 0.\n",
       "\n",
       "    Default is ``None``\n",
       "\n",
       "histtype : {'bar', 'barstacked', 'step',  'stepfilled'}, optional\n",
       "    The type of histogram to draw.\n",
       "\n",
       "    - 'bar' is a traditional bar-type histogram.  If multiple data\n",
       "      are given the bars are aranged side by side.\n",
       "\n",
       "    - 'barstacked' is a bar-type histogram where multiple\n",
       "      data are stacked on top of each other.\n",
       "\n",
       "    - 'step' generates a lineplot that is by default\n",
       "      unfilled.\n",
       "\n",
       "    - 'stepfilled' generates a lineplot that is by default\n",
       "      filled.\n",
       "\n",
       "    Default is 'bar'\n",
       "\n",
       "align : {'left', 'mid', 'right'}, optional\n",
       "    Controls how the histogram is plotted.\n",
       "\n",
       "        - 'left': bars are centered on the left bin edges.\n",
       "\n",
       "        - 'mid': bars are centered between the bin edges.\n",
       "\n",
       "        - 'right': bars are centered on the right bin edges.\n",
       "\n",
       "    Default is 'mid'\n",
       "\n",
       "orientation : {'horizontal', 'vertical'}, optional\n",
       "    If 'horizontal', `~matplotlib.pyplot.barh` will be used for\n",
       "    bar-type histograms and the *bottom* kwarg will be the left edges.\n",
       "\n",
       "rwidth : scalar or None, optional\n",
       "    The relative width of the bars as a fraction of the bin width.  If\n",
       "    ``None``, automatically compute the width.\n",
       "\n",
       "    Ignored if *histtype* is 'step' or 'stepfilled'.\n",
       "\n",
       "    Default is ``None``\n",
       "\n",
       "log : boolean, optional\n",
       "    If ``True``, the histogram axis will be set to a log scale. If\n",
       "    *log* is ``True`` and *x* is a 1D array, empty bins will be\n",
       "    filtered out and only the non-empty ``(n, bins, patches)``\n",
       "    will be returned.\n",
       "\n",
       "    Default is ``False``\n",
       "\n",
       "color : color or array_like of colors or None, optional\n",
       "    Color spec or sequence of color specs, one per dataset.  Default\n",
       "    (``None``) uses the standard line color sequence.\n",
       "\n",
       "    Default is ``None``\n",
       "\n",
       "label : string or None, optional\n",
       "    String, or sequence of strings to match multiple datasets.  Bar\n",
       "    charts yield multiple patches per dataset, but only the first gets\n",
       "    the label, so that the legend command will work as expected.\n",
       "\n",
       "    default is ``None``\n",
       "\n",
       "stacked : boolean, optional\n",
       "    If ``True``, multiple data are stacked on top of each other If\n",
       "    ``False`` multiple data are aranged side by side if histtype is\n",
       "    'bar' or on top of each other if histtype is 'step'\n",
       "\n",
       "    Default is ``False``\n",
       "\n",
       "Returns\n",
       "-------\n",
       "n : array or list of arrays\n",
       "    The values of the histogram bins. See *normed* or *density*\n",
       "    and *weights* for a description of the possible semantics.\n",
       "    If input *x* is an array, then this is an array of length\n",
       "    *nbins*. If input is a sequence arrays\n",
       "    ``[data1, data2,..]``, then this is a list of arrays with\n",
       "    the values of the histograms for each of the arrays in the\n",
       "    same order.\n",
       "\n",
       "bins : array\n",
       "    The edges of the bins. Length nbins + 1 (nbins left edges and right\n",
       "    edge of last bin).  Always a single array even when multiple data\n",
       "    sets are passed in.\n",
       "\n",
       "patches : list or list of lists\n",
       "    Silent list of individual patches used to create the histogram\n",
       "    or list of such list if multiple input datasets.\n",
       "\n",
       "Other Parameters\n",
       "----------------\n",
       "**kwargs : `~matplotlib.patches.Patch` properties\n",
       "\n",
       "See also\n",
       "--------\n",
       "hist2d : 2D histograms\n",
       "\n",
       ".. note::\n",
       "    In addition to the above described arguments, this function can take a\n",
       "    **data** keyword argument. If such a **data** argument is given, the\n",
       "    following arguments are replaced by **data[<arg>]**:\n",
       "\n",
       "    * All arguments with the following names: 'weights', 'x'.\n",
       "\u001b[1;31mFile:\u001b[0m      c:\\users\\jose\\anaconda3\\lib\\site-packages\\matplotlib\\pyplot.py\n",
       "\u001b[1;31mType:\u001b[0m      function\n"
      ]
     },
     "metadata": {},
     "output_type": "display_data"
    }
   ],
   "source": [
    "#documentation for plt.hist\n",
    "?plt.hist"
   ]
  },
  {
   "cell_type": "code",
   "execution_count": 49,
   "metadata": {},
   "outputs": [
    {
     "data": {
      "image/png": "[encoded data removed]",
      "text/plain": [
       "<matplotlib.figure.Figure at 0xbee930>"
      ]
     },
     "metadata": {},
     "output_type": "display_data"
    }
   ],
   "source": [
    "plt.hist(dfcars.mpg.values, bins=20);\n",
    "plt.xlabel(\"mpg\");\n",
    "plt.ylabel(\"Frequency\")\n",
    "plt.title(\"Miles per Gallon\");"
   ]
  },
  {
   "cell_type": "markdown",
   "metadata": {},
   "source": [
    "But pandas is very cool: you can get a histogram directly:"
   ]
  },
  {
   "cell_type": "code",
   "execution_count": 50,
   "metadata": {},
   "outputs": [
    {
     "data": {
      "image/png": "[encoded data removed]",
      "text/plain": [
       "<matplotlib.figure.Figure at 0x289b670>"
      ]
     },
     "metadata": {},
     "output_type": "display_data"
    }
   ],
   "source": [
    "dfcars.mpg.hist(bins=20);\n",
    "plt.xlabel(\"mpg\");\n",
    "plt.ylabel(\"Frequency\")\n",
    "plt.title(\"Miles per Gallon\");"
   ]
  },
  {
   "cell_type": "markdown",
   "metadata": {},
   "source": [
    "Pandas supports a dictionary like access to columns. This is very useful when column names have spaces: Python variables cannot have spaces in them."
   ]
  },
  {
   "cell_type": "code",
   "execution_count": 51,
   "metadata": {},
   "outputs": [
    {
     "data": {
      "text/plain": [
       "0     21.0\n",
       "1     21.0\n",
       "2     22.8\n",
       "3     21.4\n",
       "4     18.7\n",
       "5     18.1\n",
       "6     14.3\n",
       "7     24.4\n",
       "8     22.8\n",
       "9     19.2\n",
       "10    17.8\n",
       "11    16.4\n",
       "12    17.3\n",
       "13    15.2\n",
       "14    10.4\n",
       "15    10.4\n",
       "16    14.7\n",
       "17    32.4\n",
       "18    30.4\n",
       "19    33.9\n",
       "20    21.5\n",
       "21    15.5\n",
       "22    15.2\n",
       "23    13.3\n",
       "24    19.2\n",
       "25    27.3\n",
       "26    26.0\n",
       "27    30.4\n",
       "28    15.8\n",
       "29    19.7\n",
       "30    15.0\n",
       "31    21.4\n",
       "Name: mpg, dtype: float64"
      ]
     },
     "execution_count": 51,
     "metadata": {},
     "output_type": "execute_result"
    }
   ],
   "source": [
    "dfcars['mpg']"
   ]
  },
  {
   "cell_type": "markdown",
   "metadata": {},
   "source": [
    "\n",
    "We can also get sub-dataframes by choosing a set of series. We  pass a list of the columns we want as \"dictionary keys\" to the dataframe.  "
   ]
  },
  {
   "cell_type": "code",
   "execution_count": 52,
   "metadata": {},
   "outputs": [
    {
     "data": {
      "text/html": [
       "<div>\n",
       "<style scoped>\n",
       "    .dataframe tbody tr th:only-of-type {\n",
       "        vertical-align: middle;\n",
       "    }\n",
       "\n",
       "    .dataframe tbody tr th {\n",
       "        vertical-align: top;\n",
       "    }\n",
       "\n",
       "    .dataframe thead th {\n",
       "        text-align: right;\n",
       "    }\n",
       "</style>\n",
       "<table border=\"1\" class=\"dataframe\">\n",
       "  <thead>\n",
       "    <tr style=\"text-align: right;\">\n",
       "      <th></th>\n",
       "      <th>am</th>\n",
       "      <th>mpg</th>\n",
       "    </tr>\n",
       "  </thead>\n",
       "  <tbody>\n",
       "    <tr>\n",
       "      <th>0</th>\n",
       "      <td>1</td>\n",
       "      <td>21.0</td>\n",
       "    </tr>\n",
       "    <tr>\n",
       "      <th>1</th>\n",
       "      <td>1</td>\n",
       "      <td>21.0</td>\n",
       "    </tr>\n",
       "    <tr>\n",
       "      <th>2</th>\n",
       "      <td>1</td>\n",
       "      <td>22.8</td>\n",
       "    </tr>\n",
       "    <tr>\n",
       "      <th>3</th>\n",
       "      <td>0</td>\n",
       "      <td>21.4</td>\n",
       "    </tr>\n",
       "    <tr>\n",
       "      <th>4</th>\n",
       "      <td>0</td>\n",
       "      <td>18.7</td>\n",
       "    </tr>\n",
       "    <tr>\n",
       "      <th>5</th>\n",
       "      <td>0</td>\n",
       "      <td>18.1</td>\n",
       "    </tr>\n",
       "    <tr>\n",
       "      <th>6</th>\n",
       "      <td>0</td>\n",
       "      <td>14.3</td>\n",
       "    </tr>\n",
       "    <tr>\n",
       "      <th>7</th>\n",
       "      <td>0</td>\n",
       "      <td>24.4</td>\n",
       "    </tr>\n",
       "    <tr>\n",
       "      <th>8</th>\n",
       "      <td>0</td>\n",
       "      <td>22.8</td>\n",
       "    </tr>\n",
       "    <tr>\n",
       "      <th>9</th>\n",
       "      <td>0</td>\n",
       "      <td>19.2</td>\n",
       "    </tr>\n",
       "    <tr>\n",
       "      <th>10</th>\n",
       "      <td>0</td>\n",
       "      <td>17.8</td>\n",
       "    </tr>\n",
       "    <tr>\n",
       "      <th>11</th>\n",
       "      <td>0</td>\n",
       "      <td>16.4</td>\n",
       "    </tr>\n",
       "    <tr>\n",
       "      <th>12</th>\n",
       "      <td>0</td>\n",
       "      <td>17.3</td>\n",
       "    </tr>\n",
       "    <tr>\n",
       "      <th>13</th>\n",
       "      <td>0</td>\n",
       "      <td>15.2</td>\n",
       "    </tr>\n",
       "    <tr>\n",
       "      <th>14</th>\n",
       "      <td>0</td>\n",
       "      <td>10.4</td>\n",
       "    </tr>\n",
       "    <tr>\n",
       "      <th>15</th>\n",
       "      <td>0</td>\n",
       "      <td>10.4</td>\n",
       "    </tr>\n",
       "    <tr>\n",
       "      <th>16</th>\n",
       "      <td>0</td>\n",
       "      <td>14.7</td>\n",
       "    </tr>\n",
       "    <tr>\n",
       "      <th>17</th>\n",
       "      <td>1</td>\n",
       "      <td>32.4</td>\n",
       "    </tr>\n",
       "    <tr>\n",
       "      <th>18</th>\n",
       "      <td>1</td>\n",
       "      <td>30.4</td>\n",
       "    </tr>\n",
       "    <tr>\n",
       "      <th>19</th>\n",
       "      <td>1</td>\n",
       "      <td>33.9</td>\n",
       "    </tr>\n",
       "    <tr>\n",
       "      <th>20</th>\n",
       "      <td>0</td>\n",
       "      <td>21.5</td>\n",
       "    </tr>\n",
       "    <tr>\n",
       "      <th>21</th>\n",
       "      <td>0</td>\n",
       "      <td>15.5</td>\n",
       "    </tr>\n",
       "    <tr>\n",
       "      <th>22</th>\n",
       "      <td>0</td>\n",
       "      <td>15.2</td>\n",
       "    </tr>\n",
       "    <tr>\n",
       "      <th>23</th>\n",
       "      <td>0</td>\n",
       "      <td>13.3</td>\n",
       "    </tr>\n",
       "    <tr>\n",
       "      <th>24</th>\n",
       "      <td>0</td>\n",
       "      <td>19.2</td>\n",
       "    </tr>\n",
       "    <tr>\n",
       "      <th>25</th>\n",
       "      <td>1</td>\n",
       "      <td>27.3</td>\n",
       "    </tr>\n",
       "    <tr>\n",
       "      <th>26</th>\n",
       "      <td>1</td>\n",
       "      <td>26.0</td>\n",
       "    </tr>\n",
       "    <tr>\n",
       "      <th>27</th>\n",
       "      <td>1</td>\n",
       "      <td>30.4</td>\n",
       "    </tr>\n",
       "    <tr>\n",
       "      <th>28</th>\n",
       "      <td>1</td>\n",
       "      <td>15.8</td>\n",
       "    </tr>\n",
       "    <tr>\n",
       "      <th>29</th>\n",
       "      <td>1</td>\n",
       "      <td>19.7</td>\n",
       "    </tr>\n",
       "    <tr>\n",
       "      <th>30</th>\n",
       "      <td>1</td>\n",
       "      <td>15.0</td>\n",
       "    </tr>\n",
       "    <tr>\n",
       "      <th>31</th>\n",
       "      <td>1</td>\n",
       "      <td>21.4</td>\n",
       "    </tr>\n",
       "  </tbody>\n",
       "</table>\n",
       "</div>"
      ],
      "text/plain": [
       "    am   mpg\n",
       "0    1  21.0\n",
       "1    1  21.0\n",
       "2    1  22.8\n",
       "3    0  21.4\n",
       "4    0  18.7\n",
       "5    0  18.1\n",
       "6    0  14.3\n",
       "7    0  24.4\n",
       "8    0  22.8\n",
       "9    0  19.2\n",
       "10   0  17.8\n",
       "11   0  16.4\n",
       "12   0  17.3\n",
       "13   0  15.2\n",
       "14   0  10.4\n",
       "15   0  10.4\n",
       "16   0  14.7\n",
       "17   1  32.4\n",
       "18   1  30.4\n",
       "19   1  33.9\n",
       "20   0  21.5\n",
       "21   0  15.5\n",
       "22   0  15.2\n",
       "23   0  13.3\n",
       "24   0  19.2\n",
       "25   1  27.3\n",
       "26   1  26.0\n",
       "27   1  30.4\n",
       "28   1  15.8\n",
       "29   1  19.7\n",
       "30   1  15.0\n",
       "31   1  21.4"
      ]
     },
     "execution_count": 52,
     "metadata": {},
     "output_type": "execute_result"
    }
   ],
   "source": [
    "dfcars[['am', 'mpg']]"
   ]
  },
  {
   "cell_type": "markdown",
   "metadata": {},
   "source": [
    "As we'll see, more complex indexing is also possible, using listiness."
   ]
  },
  {
   "cell_type": "markdown",
   "metadata": {},
   "source": [
    "### Dataframes and Series"
   ]
  },
  {
   "cell_type": "markdown",
   "metadata": {},
   "source": [
    "Now that we have our automobile data loaded as a dataframe, we'd like to be able to manipulate it, its series, and its sub-dataframes, say by calculating statistics and plotting distributions of features.  Like arrays and other containers, dataframes and series are listy, so we can apply the list operations we already know to these new containers.  Below we explore our dataframe and its properties, in the context of listiness."
   ]
  },
  {
   "cell_type": "markdown",
   "metadata": {},
   "source": [
    "#### Listiness property 1: set length\n",
    "\n",
    " The attribute `shape` tells us the dimension of the dataframe, the number of rows and columns in the dataframe, `(rows, columns)`.  Somewhat strangely, but fairly usefully, (which is why the developers of Pandas probably did it ) the `len` function outputs the number of rows in the dataframe, not the number of columns as we'd expect based on how dataframes are built up from pandas series (columns).  "
   ]
  },
  {
   "cell_type": "code",
   "execution_count": 53,
   "metadata": {
    "scrolled": true
   },
   "outputs": [
    {
     "name": "stdout",
     "output_type": "stream",
     "text": [
      "(32, 12)\n",
      "32\n",
      "32\n"
     ]
    }
   ],
   "source": [
    "print(dfcars.shape)     # 12 columns, each of length 32\n",
    "print(len(dfcars))      # the number of rows in the dataframe, also the length of a series\n",
    "print(len(dfcars.mpg))  # the length of a series"
   ]
  },
  {
   "cell_type": "markdown",
   "metadata": {},
   "source": [
    "#### Listiness property 2: iteration via loops\n",
    "\n",
    " One consequence of the column-wise construction of dataframes is that you cannot easily iterate over the rows of the dataframe.  Instead, we iterate over the columns, for example, by printing out the column names via a for loop.  "
   ]
  },
  {
   "cell_type": "code",
   "execution_count": 54,
   "metadata": {},
   "outputs": [
    {
     "name": "stdout",
     "output_type": "stream",
     "text": [
      "name\n",
      "mpg\n",
      "cyl\n",
      "disp\n",
      "hp\n",
      "drat\n",
      "wt\n",
      "qsec\n",
      "vs\n",
      "am\n",
      "gear\n",
      "carb\n"
     ]
    }
   ],
   "source": [
    "for ele in dfcars: # iterating iterates over column names though, like a dictionary\n",
    "    print(ele)"
   ]
  },
  {
   "cell_type": "markdown",
   "metadata": {},
   "source": [
    "Or we can call the attribute `columns`.  Notice the `Index` in the output below. We'll return to this shortly. "
   ]
  },
  {
   "cell_type": "code",
   "execution_count": 55,
   "metadata": {},
   "outputs": [
    {
     "data": {
      "text/plain": [
       "Index(['name', 'mpg', 'cyl', 'disp', 'hp', 'drat', 'wt', 'qsec', 'vs', 'am', 'gear', 'carb'], dtype='object')"
      ]
     },
     "execution_count": 55,
     "metadata": {},
     "output_type": "execute_result"
    }
   ],
   "source": [
    "dfcars.columns"
   ]
  },
  {
   "cell_type": "markdown",
   "metadata": {},
   "source": [
    "We can iterate series in the same way that we iterate lists. Here we print out the number of cylinders for each of the 32 vehicles. \n",
    "\n",
    "BUT for the same reason as not iterating over numpy arrays, DON'T DO THIS."
   ]
  },
  {
   "cell_type": "code",
   "execution_count": 56,
   "metadata": {},
   "outputs": [
    {
     "name": "stdout",
     "output_type": "stream",
     "text": [
      "6\n",
      "6\n",
      "4\n",
      "6\n",
      "8\n",
      "6\n",
      "8\n",
      "4\n",
      "4\n",
      "6\n",
      "6\n",
      "8\n",
      "8\n",
      "8\n",
      "8\n",
      "8\n",
      "8\n",
      "4\n",
      "4\n",
      "4\n",
      "4\n",
      "8\n",
      "8\n",
      "8\n",
      "8\n",
      "4\n",
      "4\n",
      "4\n",
      "8\n",
      "6\n",
      "8\n",
      "4\n"
     ]
    }
   ],
   "source": [
    "for ele in dfcars.cyl:\n",
    "    print(ele)"
   ]
  },
  {
   "cell_type": "markdown",
   "metadata": {},
   "source": [
    "How do you iterate over rows?  Dataframes are put together column-by-column and you should be able to write code which never requires iteration over loops. But if you still find a need to iterate over rows, you can do it using `itertuples`.  See the documentation.  \n",
    "\n",
    "**In general direct iteration through pandas series/dataframes (and numpy arrays) is a bad idea**, because of the reasons in the earlier \"Python Lists vs. Numpy Arrays\" section. \n",
    "\n",
    "Instead, you should manipulate dataframes and series with pandas methods which are written to be very fast (ie, they access series and dataframes at the C level). Similarly numpy arrays should be accessed directly through numpy methods."
   ]
  },
  {
   "cell_type": "markdown",
   "metadata": {},
   "source": [
    "#### Listiness property 3: slice\n",
    "\n",
    "Let's see how indexing works in dataframes.  Like lists in Python and arrays in numpy, dataframes and series are zero-indexed."
   ]
  },
  {
   "cell_type": "code",
   "execution_count": 57,
   "metadata": {},
   "outputs": [
    {
     "data": {
      "text/html": [
       "<div>\n",
       "<style scoped>\n",
       "    .dataframe tbody tr th:only-of-type {\n",
       "        vertical-align: middle;\n",
       "    }\n",
       "\n",
       "    .dataframe tbody tr th {\n",
       "        vertical-align: top;\n",
       "    }\n",
       "\n",
       "    .dataframe thead th {\n",
       "        text-align: right;\n",
       "    }\n",
       "</style>\n",
       "<table border=\"1\" class=\"dataframe\">\n",
       "  <thead>\n",
       "    <tr style=\"text-align: right;\">\n",
       "      <th></th>\n",
       "      <th>name</th>\n",
       "      <th>mpg</th>\n",
       "      <th>cyl</th>\n",
       "      <th>disp</th>\n",
       "      <th>hp</th>\n",
       "      <th>drat</th>\n",
       "      <th>wt</th>\n",
       "      <th>qsec</th>\n",
       "      <th>vs</th>\n",
       "      <th>am</th>\n",
       "      <th>gear</th>\n",
       "      <th>carb</th>\n",
       "    </tr>\n",
       "  </thead>\n",
       "  <tbody>\n",
       "    <tr>\n",
       "      <th>0</th>\n",
       "      <td>Mazda RX4</td>\n",
       "      <td>21.0</td>\n",
       "      <td>6</td>\n",
       "      <td>160.0</td>\n",
       "      <td>110</td>\n",
       "      <td>3.90</td>\n",
       "      <td>2.620</td>\n",
       "      <td>16.46</td>\n",
       "      <td>0</td>\n",
       "      <td>1</td>\n",
       "      <td>4</td>\n",
       "      <td>4</td>\n",
       "    </tr>\n",
       "    <tr>\n",
       "      <th>1</th>\n",
       "      <td>Mazda RX4 Wag</td>\n",
       "      <td>21.0</td>\n",
       "      <td>6</td>\n",
       "      <td>160.0</td>\n",
       "      <td>110</td>\n",
       "      <td>3.90</td>\n",
       "      <td>2.875</td>\n",
       "      <td>17.02</td>\n",
       "      <td>0</td>\n",
       "      <td>1</td>\n",
       "      <td>4</td>\n",
       "      <td>4</td>\n",
       "    </tr>\n",
       "    <tr>\n",
       "      <th>2</th>\n",
       "      <td>Datsun 710</td>\n",
       "      <td>22.8</td>\n",
       "      <td>4</td>\n",
       "      <td>108.0</td>\n",
       "      <td>93</td>\n",
       "      <td>3.85</td>\n",
       "      <td>2.320</td>\n",
       "      <td>18.61</td>\n",
       "      <td>1</td>\n",
       "      <td>1</td>\n",
       "      <td>4</td>\n",
       "      <td>1</td>\n",
       "    </tr>\n",
       "    <tr>\n",
       "      <th>3</th>\n",
       "      <td>Hornet 4 Drive</td>\n",
       "      <td>21.4</td>\n",
       "      <td>6</td>\n",
       "      <td>258.0</td>\n",
       "      <td>110</td>\n",
       "      <td>3.08</td>\n",
       "      <td>3.215</td>\n",
       "      <td>19.44</td>\n",
       "      <td>1</td>\n",
       "      <td>0</td>\n",
       "      <td>3</td>\n",
       "      <td>1</td>\n",
       "    </tr>\n",
       "    <tr>\n",
       "      <th>4</th>\n",
       "      <td>Hornet Sportabout</td>\n",
       "      <td>18.7</td>\n",
       "      <td>8</td>\n",
       "      <td>360.0</td>\n",
       "      <td>175</td>\n",
       "      <td>3.15</td>\n",
       "      <td>3.440</td>\n",
       "      <td>17.02</td>\n",
       "      <td>0</td>\n",
       "      <td>0</td>\n",
       "      <td>3</td>\n",
       "      <td>2</td>\n",
       "    </tr>\n",
       "  </tbody>\n",
       "</table>\n",
       "</div>"
      ],
      "text/plain": [
       "                name   mpg  cyl   disp   hp  drat     wt   qsec  vs  am  gear  carb\n",
       "0          Mazda RX4  21.0    6  160.0  110  3.90  2.620  16.46   0   1     4     4\n",
       "1      Mazda RX4 Wag  21.0    6  160.0  110  3.90  2.875  17.02   0   1     4     4\n",
       "2         Datsun 710  22.8    4  108.0   93  3.85  2.320  18.61   1   1     4     1\n",
       "3     Hornet 4 Drive  21.4    6  258.0  110  3.08  3.215  19.44   1   0     3     1\n",
       "4  Hornet Sportabout  18.7    8  360.0  175  3.15  3.440  17.02   0   0     3     2"
      ]
     },
     "execution_count": 57,
     "metadata": {},
     "output_type": "execute_result"
    }
   ],
   "source": [
    "dfcars.head()"
   ]
  },
  {
   "cell_type": "code",
   "execution_count": 58,
   "metadata": {},
   "outputs": [
    {
     "name": "stdout",
     "output_type": "stream",
     "text": [
      "[0, 1, 2, 3, 4, 5, 6, 7, 8, 9, 10, 11, 12, 13, 14, 15, 16, 17, 18, 19, 20, 21, 22, 23, 24, 25, 26, 27, 28, 29, 30, 31]\n"
     ]
    },
    {
     "data": {
      "text/plain": [
       "RangeIndex(start=0, stop=32, step=1)"
      ]
     },
     "execution_count": 58,
     "metadata": {},
     "output_type": "execute_result"
    }
   ],
   "source": [
    "# index for the dataframe\n",
    "print(list(dfcars.index))\n",
    "# index for the cyl series\n",
    "dfcars.cyl.index"
   ]
  },
  {
   "cell_type": "markdown",
   "metadata": {},
   "source": [
    "There are two ways to index dataframes. The `loc` property indexes by label name, while `iloc` indexes by position in the index.  We'll illustrate this with a slightly modified version of `dfcars`, created by relabeling the row indices of `dfcars` to start at 5 instead of 0.  "
   ]
  },
  {
   "cell_type": "code",
   "execution_count": 59,
   "metadata": {},
   "outputs": [
    {
     "data": {
      "text/html": [
       "<div>\n",
       "<style scoped>\n",
       "    .dataframe tbody tr th:only-of-type {\n",
       "        vertical-align: middle;\n",
       "    }\n",
       "\n",
       "    .dataframe tbody tr th {\n",
       "        vertical-align: top;\n",
       "    }\n",
       "\n",
       "    .dataframe thead th {\n",
       "        text-align: right;\n",
       "    }\n",
       "</style>\n",
       "<table border=\"1\" class=\"dataframe\">\n",
       "  <thead>\n",
       "    <tr style=\"text-align: right;\">\n",
       "      <th></th>\n",
       "      <th>name</th>\n",
       "      <th>mpg</th>\n",
       "      <th>cyl</th>\n",
       "      <th>disp</th>\n",
       "      <th>hp</th>\n",
       "      <th>drat</th>\n",
       "      <th>wt</th>\n",
       "      <th>qsec</th>\n",
       "      <th>vs</th>\n",
       "      <th>am</th>\n",
       "      <th>gear</th>\n",
       "      <th>carb</th>\n",
       "    </tr>\n",
       "  </thead>\n",
       "  <tbody>\n",
       "    <tr>\n",
       "      <th>5</th>\n",
       "      <td>Valiant</td>\n",
       "      <td>18.1</td>\n",
       "      <td>6.0</td>\n",
       "      <td>225.0</td>\n",
       "      <td>105.0</td>\n",
       "      <td>2.76</td>\n",
       "      <td>3.46</td>\n",
       "      <td>20.22</td>\n",
       "      <td>1.0</td>\n",
       "      <td>0.0</td>\n",
       "      <td>3.0</td>\n",
       "      <td>1.0</td>\n",
       "    </tr>\n",
       "    <tr>\n",
       "      <th>6</th>\n",
       "      <td>Duster 360</td>\n",
       "      <td>14.3</td>\n",
       "      <td>8.0</td>\n",
       "      <td>360.0</td>\n",
       "      <td>245.0</td>\n",
       "      <td>3.21</td>\n",
       "      <td>3.57</td>\n",
       "      <td>15.84</td>\n",
       "      <td>0.0</td>\n",
       "      <td>0.0</td>\n",
       "      <td>3.0</td>\n",
       "      <td>4.0</td>\n",
       "    </tr>\n",
       "    <tr>\n",
       "      <th>7</th>\n",
       "      <td>Merc 240D</td>\n",
       "      <td>24.4</td>\n",
       "      <td>4.0</td>\n",
       "      <td>146.7</td>\n",
       "      <td>62.0</td>\n",
       "      <td>3.69</td>\n",
       "      <td>3.19</td>\n",
       "      <td>20.00</td>\n",
       "      <td>1.0</td>\n",
       "      <td>0.0</td>\n",
       "      <td>4.0</td>\n",
       "      <td>2.0</td>\n",
       "    </tr>\n",
       "    <tr>\n",
       "      <th>8</th>\n",
       "      <td>Merc 230</td>\n",
       "      <td>22.8</td>\n",
       "      <td>4.0</td>\n",
       "      <td>140.8</td>\n",
       "      <td>95.0</td>\n",
       "      <td>3.92</td>\n",
       "      <td>3.15</td>\n",
       "      <td>22.90</td>\n",
       "      <td>1.0</td>\n",
       "      <td>0.0</td>\n",
       "      <td>4.0</td>\n",
       "      <td>2.0</td>\n",
       "    </tr>\n",
       "    <tr>\n",
       "      <th>9</th>\n",
       "      <td>Merc 280</td>\n",
       "      <td>19.2</td>\n",
       "      <td>6.0</td>\n",
       "      <td>167.6</td>\n",
       "      <td>123.0</td>\n",
       "      <td>3.92</td>\n",
       "      <td>3.44</td>\n",
       "      <td>18.30</td>\n",
       "      <td>1.0</td>\n",
       "      <td>0.0</td>\n",
       "      <td>4.0</td>\n",
       "      <td>4.0</td>\n",
       "    </tr>\n",
       "  </tbody>\n",
       "</table>\n",
       "</div>"
      ],
      "text/plain": [
       "         name   mpg  cyl   disp     hp  drat    wt   qsec   vs   am  gear  carb\n",
       "5     Valiant  18.1  6.0  225.0  105.0  2.76  3.46  20.22  1.0  0.0   3.0   1.0\n",
       "6  Duster 360  14.3  8.0  360.0  245.0  3.21  3.57  15.84  0.0  0.0   3.0   4.0\n",
       "7   Merc 240D  24.4  4.0  146.7   62.0  3.69  3.19  20.00  1.0  0.0   4.0   2.0\n",
       "8    Merc 230  22.8  4.0  140.8   95.0  3.92  3.15  22.90  1.0  0.0   4.0   2.0\n",
       "9    Merc 280  19.2  6.0  167.6  123.0  3.92  3.44  18.30  1.0  0.0   4.0   4.0"
      ]
     },
     "execution_count": 59,
     "metadata": {},
     "output_type": "execute_result"
    }
   ],
   "source": [
    "# create values from 5 to 36\n",
    "new_index = np.arange(5, 37)\n",
    "# new dataframe with indexed rows from 5 to 36\n",
    "dfcars_reindex = dfcars.reindex(new_index)\n",
    "dfcars_reindex.head()"
   ]
  },
  {
   "cell_type": "markdown",
   "metadata": {},
   "source": [
    "We now return the first three rows of `dfcars_reindex` in two different ways, first with `iloc` and then with `loc`.  With `iloc` we use the command"
   ]
  },
  {
   "cell_type": "code",
   "execution_count": 60,
   "metadata": {},
   "outputs": [
    {
     "data": {
      "text/html": [
       "<div>\n",
       "<style scoped>\n",
       "    .dataframe tbody tr th:only-of-type {\n",
       "        vertical-align: middle;\n",
       "    }\n",
       "\n",
       "    .dataframe tbody tr th {\n",
       "        vertical-align: top;\n",
       "    }\n",
       "\n",
       "    .dataframe thead th {\n",
       "        text-align: right;\n",
       "    }\n",
       "</style>\n",
       "<table border=\"1\" class=\"dataframe\">\n",
       "  <thead>\n",
       "    <tr style=\"text-align: right;\">\n",
       "      <th></th>\n",
       "      <th>name</th>\n",
       "      <th>mpg</th>\n",
       "      <th>cyl</th>\n",
       "      <th>disp</th>\n",
       "      <th>hp</th>\n",
       "      <th>drat</th>\n",
       "      <th>wt</th>\n",
       "      <th>qsec</th>\n",
       "      <th>vs</th>\n",
       "      <th>am</th>\n",
       "      <th>gear</th>\n",
       "      <th>carb</th>\n",
       "    </tr>\n",
       "  </thead>\n",
       "  <tbody>\n",
       "    <tr>\n",
       "      <th>5</th>\n",
       "      <td>Valiant</td>\n",
       "      <td>18.1</td>\n",
       "      <td>6.0</td>\n",
       "      <td>225.0</td>\n",
       "      <td>105.0</td>\n",
       "      <td>2.76</td>\n",
       "      <td>3.46</td>\n",
       "      <td>20.22</td>\n",
       "      <td>1.0</td>\n",
       "      <td>0.0</td>\n",
       "      <td>3.0</td>\n",
       "      <td>1.0</td>\n",
       "    </tr>\n",
       "    <tr>\n",
       "      <th>6</th>\n",
       "      <td>Duster 360</td>\n",
       "      <td>14.3</td>\n",
       "      <td>8.0</td>\n",
       "      <td>360.0</td>\n",
       "      <td>245.0</td>\n",
       "      <td>3.21</td>\n",
       "      <td>3.57</td>\n",
       "      <td>15.84</td>\n",
       "      <td>0.0</td>\n",
       "      <td>0.0</td>\n",
       "      <td>3.0</td>\n",
       "      <td>4.0</td>\n",
       "    </tr>\n",
       "    <tr>\n",
       "      <th>7</th>\n",
       "      <td>Merc 240D</td>\n",
       "      <td>24.4</td>\n",
       "      <td>4.0</td>\n",
       "      <td>146.7</td>\n",
       "      <td>62.0</td>\n",
       "      <td>3.69</td>\n",
       "      <td>3.19</td>\n",
       "      <td>20.00</td>\n",
       "      <td>1.0</td>\n",
       "      <td>0.0</td>\n",
       "      <td>4.0</td>\n",
       "      <td>2.0</td>\n",
       "    </tr>\n",
       "  </tbody>\n",
       "</table>\n",
       "</div>"
      ],
      "text/plain": [
       "         name   mpg  cyl   disp     hp  drat    wt   qsec   vs   am  gear  carb\n",
       "5     Valiant  18.1  6.0  225.0  105.0  2.76  3.46  20.22  1.0  0.0   3.0   1.0\n",
       "6  Duster 360  14.3  8.0  360.0  245.0  3.21  3.57  15.84  0.0  0.0   3.0   4.0\n",
       "7   Merc 240D  24.4  4.0  146.7   62.0  3.69  3.19  20.00  1.0  0.0   4.0   2.0"
      ]
     },
     "execution_count": 60,
     "metadata": {},
     "output_type": "execute_result"
    }
   ],
   "source": [
    "dfcars_reindex.iloc[0:3]"
   ]
  },
  {
   "cell_type": "markdown",
   "metadata": {},
   "source": [
    "since `iloc` uses the position in the index.  Notice that the argument 0:3 with `iloc` returns the first three rows of the dataframe, which have label names 5, 6, and 7.  To access the same rows with `loc`, we write"
   ]
  },
  {
   "cell_type": "code",
   "execution_count": 61,
   "metadata": {},
   "outputs": [
    {
     "data": {
      "text/html": [
       "<div>\n",
       "<style scoped>\n",
       "    .dataframe tbody tr th:only-of-type {\n",
       "        vertical-align: middle;\n",
       "    }\n",
       "\n",
       "    .dataframe tbody tr th {\n",
       "        vertical-align: top;\n",
       "    }\n",
       "\n",
       "    .dataframe thead th {\n",
       "        text-align: right;\n",
       "    }\n",
       "</style>\n",
       "<table border=\"1\" class=\"dataframe\">\n",
       "  <thead>\n",
       "    <tr style=\"text-align: right;\">\n",
       "      <th></th>\n",
       "      <th>name</th>\n",
       "      <th>mpg</th>\n",
       "      <th>cyl</th>\n",
       "      <th>disp</th>\n",
       "      <th>hp</th>\n",
       "      <th>drat</th>\n",
       "      <th>wt</th>\n",
       "      <th>qsec</th>\n",
       "      <th>vs</th>\n",
       "      <th>am</th>\n",
       "      <th>gear</th>\n",
       "      <th>carb</th>\n",
       "    </tr>\n",
       "  </thead>\n",
       "  <tbody>\n",
       "    <tr>\n",
       "      <th>5</th>\n",
       "      <td>Valiant</td>\n",
       "      <td>18.1</td>\n",
       "      <td>6.0</td>\n",
       "      <td>225.0</td>\n",
       "      <td>105.0</td>\n",
       "      <td>2.76</td>\n",
       "      <td>3.46</td>\n",
       "      <td>20.22</td>\n",
       "      <td>1.0</td>\n",
       "      <td>0.0</td>\n",
       "      <td>3.0</td>\n",
       "      <td>1.0</td>\n",
       "    </tr>\n",
       "    <tr>\n",
       "      <th>6</th>\n",
       "      <td>Duster 360</td>\n",
       "      <td>14.3</td>\n",
       "      <td>8.0</td>\n",
       "      <td>360.0</td>\n",
       "      <td>245.0</td>\n",
       "      <td>3.21</td>\n",
       "      <td>3.57</td>\n",
       "      <td>15.84</td>\n",
       "      <td>0.0</td>\n",
       "      <td>0.0</td>\n",
       "      <td>3.0</td>\n",
       "      <td>4.0</td>\n",
       "    </tr>\n",
       "    <tr>\n",
       "      <th>7</th>\n",
       "      <td>Merc 240D</td>\n",
       "      <td>24.4</td>\n",
       "      <td>4.0</td>\n",
       "      <td>146.7</td>\n",
       "      <td>62.0</td>\n",
       "      <td>3.69</td>\n",
       "      <td>3.19</td>\n",
       "      <td>20.00</td>\n",
       "      <td>1.0</td>\n",
       "      <td>0.0</td>\n",
       "      <td>4.0</td>\n",
       "      <td>2.0</td>\n",
       "    </tr>\n",
       "  </tbody>\n",
       "</table>\n",
       "</div>"
      ],
      "text/plain": [
       "         name   mpg  cyl   disp     hp  drat    wt   qsec   vs   am  gear  carb\n",
       "5     Valiant  18.1  6.0  225.0  105.0  2.76  3.46  20.22  1.0  0.0   3.0   1.0\n",
       "6  Duster 360  14.3  8.0  360.0  245.0  3.21  3.57  15.84  0.0  0.0   3.0   4.0\n",
       "7   Merc 240D  24.4  4.0  146.7   62.0  3.69  3.19  20.00  1.0  0.0   4.0   2.0"
      ]
     },
     "execution_count": 61,
     "metadata": {},
     "output_type": "execute_result"
    }
   ],
   "source": [
    "dfcars_reindex.loc[0:7] # or dfcars_reindex.loc[5:7]"
   ]
  },
  {
   "cell_type": "markdown",
   "metadata": {},
   "source": [
    "since `loc` indexes via the label name.  \n",
    "\n",
    "Here's another example where we return three rows of `dfcars_reindex` that correspond to column attributes `mpg`, `cyl`, and `disp`.  First do it with `iloc`:"
   ]
  },
  {
   "cell_type": "code",
   "execution_count": 62,
   "metadata": {},
   "outputs": [
    {
     "data": {
      "text/html": [
       "<div>\n",
       "<style scoped>\n",
       "    .dataframe tbody tr th:only-of-type {\n",
       "        vertical-align: middle;\n",
       "    }\n",
       "\n",
       "    .dataframe tbody tr th {\n",
       "        vertical-align: top;\n",
       "    }\n",
       "\n",
       "    .dataframe thead th {\n",
       "        text-align: right;\n",
       "    }\n",
       "</style>\n",
       "<table border=\"1\" class=\"dataframe\">\n",
       "  <thead>\n",
       "    <tr style=\"text-align: right;\">\n",
       "      <th></th>\n",
       "      <th>mpg</th>\n",
       "      <th>cyl</th>\n",
       "      <th>disp</th>\n",
       "    </tr>\n",
       "  </thead>\n",
       "  <tbody>\n",
       "    <tr>\n",
       "      <th>7</th>\n",
       "      <td>24.4</td>\n",
       "      <td>4.0</td>\n",
       "      <td>146.7</td>\n",
       "    </tr>\n",
       "    <tr>\n",
       "      <th>8</th>\n",
       "      <td>22.8</td>\n",
       "      <td>4.0</td>\n",
       "      <td>140.8</td>\n",
       "    </tr>\n",
       "    <tr>\n",
       "      <th>9</th>\n",
       "      <td>19.2</td>\n",
       "      <td>6.0</td>\n",
       "      <td>167.6</td>\n",
       "    </tr>\n",
       "  </tbody>\n",
       "</table>\n",
       "</div>"
      ],
      "text/plain": [
       "    mpg  cyl   disp\n",
       "7  24.4  4.0  146.7\n",
       "8  22.8  4.0  140.8\n",
       "9  19.2  6.0  167.6"
      ]
     },
     "execution_count": 62,
     "metadata": {},
     "output_type": "execute_result"
    }
   ],
   "source": [
    "dfcars_reindex.iloc[2:5, 1:4]"
   ]
  },
  {
   "cell_type": "markdown",
   "metadata": {},
   "source": [
    "Notice that rows we're accessing, 2, 3, and 4, have label names 7, 8, and 9, and the columns we're accessing, 1, 2, and 3, have label names `mpg`, `cyl`, and `disp`.  So for both rows and columns, we're accessing elements of the dataframe using the integer position indices.  Now let's do it with `loc`:"
   ]
  },
  {
   "cell_type": "code",
   "execution_count": 63,
   "metadata": {},
   "outputs": [
    {
     "data": {
      "text/html": [
       "<div>\n",
       "<style scoped>\n",
       "    .dataframe tbody tr th:only-of-type {\n",
       "        vertical-align: middle;\n",
       "    }\n",
       "\n",
       "    .dataframe tbody tr th {\n",
       "        vertical-align: top;\n",
       "    }\n",
       "\n",
       "    .dataframe thead th {\n",
       "        text-align: right;\n",
       "    }\n",
       "</style>\n",
       "<table border=\"1\" class=\"dataframe\">\n",
       "  <thead>\n",
       "    <tr style=\"text-align: right;\">\n",
       "      <th></th>\n",
       "      <th>mpg</th>\n",
       "      <th>cyl</th>\n",
       "      <th>disp</th>\n",
       "    </tr>\n",
       "  </thead>\n",
       "  <tbody>\n",
       "    <tr>\n",
       "      <th>7</th>\n",
       "      <td>24.4</td>\n",
       "      <td>4.0</td>\n",
       "      <td>146.7</td>\n",
       "    </tr>\n",
       "    <tr>\n",
       "      <th>8</th>\n",
       "      <td>22.8</td>\n",
       "      <td>4.0</td>\n",
       "      <td>140.8</td>\n",
       "    </tr>\n",
       "    <tr>\n",
       "      <th>9</th>\n",
       "      <td>19.2</td>\n",
       "      <td>6.0</td>\n",
       "      <td>167.6</td>\n",
       "    </tr>\n",
       "  </tbody>\n",
       "</table>\n",
       "</div>"
      ],
      "text/plain": [
       "    mpg  cyl   disp\n",
       "7  24.4  4.0  146.7\n",
       "8  22.8  4.0  140.8\n",
       "9  19.2  6.0  167.6"
      ]
     },
     "execution_count": 63,
     "metadata": {},
     "output_type": "execute_result"
    }
   ],
   "source": [
    "dfcars_reindex.loc[7:9, ['mpg', 'cyl', 'disp']]"
   ]
  },
  {
   "cell_type": "markdown",
   "metadata": {},
   "source": [
    "We don't have to remember that `disp` is the third column of the dataframe the way we did when the data was stored as a numpy array -- we can simply access it with `loc` using the label name `disp`. \n",
    "\n",
    "Generally we prefer `iloc` for indexing rows and `loc` for indexing columns. "
   ]
  },
  {
   "cell_type": "markdown",
   "metadata": {},
   "source": [
    ">**EXERCISE**: In this exercise you'll examine the documentation to generate a toy dataframe from scratch.  Go to the documentation and click on \"10 minutes to pandas\" in the table of contents.  Then do the following:\n",
    "\n",
    ">1.  Create a series called `column_1` with entries 0, 1, 2, 3.\n",
    "\n",
    ">2.  Create a second series called `column_2` with entries 4, 5, 6, 7.\n",
    "\n",
    ">3.  Glue these series into a dataframe called `table`, where the first and second labelled column of the dataframe are `column_1` and `column_2`, respectively.  In the dataframe, `column_1` should be indexed as `col_1` and `column_2` should be indexed as `col_2`.\n",
    "\n",
    "> Oops!  You've changed your mind about the index labels for the columns.  Use `rename` to rename `col_1` as `Col_1` and `col_2` as `Col_2`.  \n",
    "\n",
    "> *Stretch*: Can you figure out how to rename the row indexes?  Try to rename `0` as `zero`, `1` as `one`, and so on.\n"
   ]
  },
  {
   "cell_type": "code",
   "execution_count": 64,
   "metadata": {},
   "outputs": [
    {
     "data": {
      "text/html": [
       "<div>\n",
       "<style scoped>\n",
       "    .dataframe tbody tr th:only-of-type {\n",
       "        vertical-align: middle;\n",
       "    }\n",
       "\n",
       "    .dataframe tbody tr th {\n",
       "        vertical-align: top;\n",
       "    }\n",
       "\n",
       "    .dataframe thead th {\n",
       "        text-align: right;\n",
       "    }\n",
       "</style>\n",
       "<table border=\"1\" class=\"dataframe\">\n",
       "  <thead>\n",
       "    <tr style=\"text-align: right;\">\n",
       "      <th></th>\n",
       "      <th>col1</th>\n",
       "      <th>col2</th>\n",
       "    </tr>\n",
       "  </thead>\n",
       "  <tbody>\n",
       "    <tr>\n",
       "      <th>0</th>\n",
       "      <td>0</td>\n",
       "      <td>4</td>\n",
       "    </tr>\n",
       "    <tr>\n",
       "      <th>1</th>\n",
       "      <td>1</td>\n",
       "      <td>5</td>\n",
       "    </tr>\n",
       "    <tr>\n",
       "      <th>2</th>\n",
       "      <td>2</td>\n",
       "      <td>6</td>\n",
       "    </tr>\n",
       "    <tr>\n",
       "      <th>3</th>\n",
       "      <td>3</td>\n",
       "      <td>7</td>\n",
       "    </tr>\n",
       "  </tbody>\n",
       "</table>\n",
       "</div>"
      ],
      "text/plain": [
       "   col1  col2\n",
       "0     0     4\n",
       "1     1     5\n",
       "2     2     6\n",
       "3     3     7"
      ]
     },
     "execution_count": 64,
     "metadata": {},
     "output_type": "execute_result"
    }
   ],
   "source": [
    "# your code here\n",
    "column_1 = pd.Series(range(0, 4))\n",
    "column_2 = pd.Series(range(4, 8))\n",
    "table = pd.concat({'col1' : column_1, 'col2' : column_2}, axis = 1)\n",
    "table"
   ]
  },
  {
   "cell_type": "code",
   "execution_count": 65,
   "metadata": {},
   "outputs": [
    {
     "data": {
      "text/html": [
       "<div>\n",
       "<style scoped>\n",
       "    .dataframe tbody tr th:only-of-type {\n",
       "        vertical-align: middle;\n",
       "    }\n",
       "\n",
       "    .dataframe tbody tr th {\n",
       "        vertical-align: top;\n",
       "    }\n",
       "\n",
       "    .dataframe thead th {\n",
       "        text-align: right;\n",
       "    }\n",
       "</style>\n",
       "<table border=\"1\" class=\"dataframe\">\n",
       "  <thead>\n",
       "    <tr style=\"text-align: right;\">\n",
       "      <th></th>\n",
       "      <th>Col_1</th>\n",
       "      <th>Col_2</th>\n",
       "    </tr>\n",
       "  </thead>\n",
       "  <tbody>\n",
       "    <tr>\n",
       "      <th>0</th>\n",
       "      <td>0</td>\n",
       "      <td>4</td>\n",
       "    </tr>\n",
       "    <tr>\n",
       "      <th>1</th>\n",
       "      <td>1</td>\n",
       "      <td>5</td>\n",
       "    </tr>\n",
       "    <tr>\n",
       "      <th>2</th>\n",
       "      <td>2</td>\n",
       "      <td>6</td>\n",
       "    </tr>\n",
       "    <tr>\n",
       "      <th>3</th>\n",
       "      <td>3</td>\n",
       "      <td>7</td>\n",
       "    </tr>\n",
       "  </tbody>\n",
       "</table>\n",
       "</div>"
      ],
      "text/plain": [
       "   Col_1  Col_2\n",
       "0      0      4\n",
       "1      1      5\n",
       "2      2      6\n",
       "3      3      7"
      ]
     },
     "execution_count": 65,
     "metadata": {},
     "output_type": "execute_result"
    }
   ],
   "source": [
    "table = table.rename(columns = {'col1' : 'Col_1', 'col2' : 'Col_2'})\n",
    "table"
   ]
  },
  {
   "cell_type": "code",
   "execution_count": 66,
   "metadata": {},
   "outputs": [
    {
     "data": {
      "text/html": [
       "<div>\n",
       "<style scoped>\n",
       "    .dataframe tbody tr th:only-of-type {\n",
       "        vertical-align: middle;\n",
       "    }\n",
       "\n",
       "    .dataframe tbody tr th {\n",
       "        vertical-align: top;\n",
       "    }\n",
       "\n",
       "    .dataframe thead th {\n",
       "        text-align: right;\n",
       "    }\n",
       "</style>\n",
       "<table border=\"1\" class=\"dataframe\">\n",
       "  <thead>\n",
       "    <tr style=\"text-align: right;\">\n",
       "      <th></th>\n",
       "      <th>Col_1</th>\n",
       "      <th>Col_2</th>\n",
       "    </tr>\n",
       "  </thead>\n",
       "  <tbody>\n",
       "    <tr>\n",
       "      <th>zero</th>\n",
       "      <td>NaN</td>\n",
       "      <td>NaN</td>\n",
       "    </tr>\n",
       "    <tr>\n",
       "      <th>one</th>\n",
       "      <td>NaN</td>\n",
       "      <td>NaN</td>\n",
       "    </tr>\n",
       "    <tr>\n",
       "      <th>two</th>\n",
       "      <td>NaN</td>\n",
       "      <td>NaN</td>\n",
       "    </tr>\n",
       "    <tr>\n",
       "      <th>three</th>\n",
       "      <td>NaN</td>\n",
       "      <td>NaN</td>\n",
       "    </tr>\n",
       "  </tbody>\n",
       "</table>\n",
       "</div>"
      ],
      "text/plain": [
       "       Col_1  Col_2\n",
       "zero     NaN    NaN\n",
       "one      NaN    NaN\n",
       "two      NaN    NaN\n",
       "three    NaN    NaN"
      ]
     },
     "execution_count": 66,
     "metadata": {},
     "output_type": "execute_result"
    }
   ],
   "source": [
    "table_reindex = table.reindex(labels = ['zero', 'one', 'two', 'three'], axis = 'index')\n",
    "table_reindex"
   ]
  },
  {
   "cell_type": "markdown",
   "metadata": {},
   "source": [
    "Picking rows is an idiom you probably wont use very often: there are better ways to do this which we will explore in lecture, such as grouping and querying. Picking columns can often be done by passing a list as a dictionary key.\n",
    "\n",
    "The place where `loc` and `iloc` are very useful are where you want to change particular rows. We'll see examples of this in lecture."
   ]
  },
  {
   "cell_type": "markdown",
   "metadata": {},
   "source": [
    "### Data Types\n",
    "\n",
    "Columns in a dataframe (series) come with their own types. Some data may be categorical, that is, they come  with only few well defined values. An example is cylinders  (`cyl`). Cars may be 4, 6, or 8 cylindered. There is a ordered interpretation to this  (8 cylinders more powerful engine than 6 cylinders) but also a one-of-three-types interpretation to this. \n",
    "\n",
    "Sometimes categorical data does not have an ordered interpretation. An example is `am`: a boolean variable which indicates whether the car is an automatic or not.\n",
    "\n",
    "Other column types are integer, floating-point, and `object`. The latter is a catch-all for a string or anything Pandas cannot infer, for example, a column that contains data of mixed types. \n",
    " \n",
    "Let's see the types of the columns:"
   ]
  },
  {
   "cell_type": "code",
   "execution_count": 67,
   "metadata": {},
   "outputs": [
    {
     "data": {
      "text/plain": [
       "name     object\n",
       "mpg     float64\n",
       "cyl       int64\n",
       "disp    float64\n",
       "hp        int64\n",
       "drat    float64\n",
       "wt      float64\n",
       "qsec    float64\n",
       "vs        int64\n",
       "am        int64\n",
       "gear      int64\n",
       "carb      int64\n",
       "dtype: object"
      ]
     },
     "execution_count": 67,
     "metadata": {},
     "output_type": "execute_result"
    }
   ],
   "source": [
    "dfcars.dtypes"
   ]
  },
  {
   "cell_type": "markdown",
   "metadata": {},
   "source": [
    "As we'll see in lab 2, the `dtypes` attribute is useful for debugging.  If one of these columns is not the type you expect, it can point to missing or malformed values that you should investigate further. Pandas assigns these types by inspection of some of the values,  and if the types are missed it will make assign it as an `object`, like the `name` column. Consider for example:"
   ]
  },
  {
   "cell_type": "code",
   "execution_count": 68,
   "metadata": {},
   "outputs": [
    {
     "name": "stdout",
     "output_type": "stream",
     "text": [
      "0    a\n",
      "1    1\n",
      "2    2\n",
      "3    3\n",
      "dtype: object\n"
     ]
    },
    {
     "data": {
      "text/plain": [
       "dtype('O')"
      ]
     },
     "execution_count": 68,
     "metadata": {},
     "output_type": "execute_result"
    }
   ],
   "source": [
    "diff_values = ['a', 1, 2, 3]\n",
    "diff_series = pd.Series(diff_values)\n",
    "print(diff_series)\n",
    "diff_series.dtypes # object because type inference fails"
   ]
  },
  {
   "cell_type": "code",
   "execution_count": 69,
   "metadata": {},
   "outputs": [
    {
     "data": {
      "text/plain": [
       "array(['a', 1, 2, 3], dtype=object)"
      ]
     },
     "execution_count": 69,
     "metadata": {},
     "output_type": "execute_result"
    }
   ],
   "source": [
    "diff_series.values # you destroyed performance, numpy starts to act like a python list"
   ]
  },
  {
   "cell_type": "code",
   "execution_count": 70,
   "metadata": {},
   "outputs": [
    {
     "name": "stdout",
     "output_type": "stream",
     "text": [
      "0    2\n",
      "1    3\n",
      "2    4\n",
      "dtype: int64\n"
     ]
    },
    {
     "data": {
      "text/plain": [
       "dtype('int64')"
      ]
     },
     "execution_count": 70,
     "metadata": {},
     "output_type": "execute_result"
    }
   ],
   "source": [
    "same_values = [2, 3, 4]\n",
    "same_series = pd.Series(same_values)\n",
    "print(same_series)\n",
    "same_series.dtypes # correctly infers ints"
   ]
  },
  {
   "cell_type": "code",
   "execution_count": 71,
   "metadata": {},
   "outputs": [
    {
     "data": {
      "text/plain": [
       "0    2\n",
       "1    3\n",
       "2    4\n",
       "dtype: int64"
      ]
     },
     "execution_count": 71,
     "metadata": {},
     "output_type": "execute_result"
    }
   ],
   "source": [
    "same_series.head()"
   ]
  },
  {
   "cell_type": "markdown",
   "metadata": {},
   "source": [
    "### *Aside: Pandas and memory*\n",
    "\n",
    "Notice that we did above:\n",
    "\n",
    "`dfcars=dfcars.rename(columns={\"Unnamed: 0\": \"name\"})`\n",
    "\n",
    "In other words we bound the same name `dfcars` to the result of the `rename` method.\n",
    "\n",
    "The `rename` operation  creates a new dataframe. This is an example of \"functional programming\" where we always create new objects from functions, rather than changing old ones. After doing this, we just renamed the new dataframe with the old name  `dfcars`. This is because variables in Python are just post-its, labels, or *bindings*: they are just aliases for a piece of memory.  The `rename` method on dataframes creates a new dataframe, and we rebind the variable `dfcars` to point to this new piece of memory. What about the old piece of memory `dfcars` pointed to? Its now  bindingless and will be destroyed by Python's garbage collector. This is how Python manages memory on your computer.\n",
    "\n",
    "This is the recommended style of Python programming unless you have very limited memory on your computer. Don't create a `dfcars2` dataframe.\n",
    "\n",
    "But you might, quite rightly argue, what if the dataframe is huge and you have very limited memory? For this reason, almost all Pandas methods have a `inplace=True` option, see the `rename` docs for example.  You can then say:\n",
    "\n",
    "```\n",
    "dfcars.rename(columns={\"Unnamed: 0\":\"name\"}, inplace=True)\n",
    "```\n",
    "\n",
    "Now the old dataframe is changed in place.\n",
    "\n",
    "That being said, don't do this if at all possible.  While it takes less memory (and thus you might sometimes need to do it), structures in place needs careful ordering and tracking of operations.  And, as human beings, we tend to be fallible.\n",
    "\n",
    "(Even in big-data programs like Hadoop and Spark, new objects are created. Why?  In these cases you are typically working on multiple machines.  What if one goes down while an operation is happening? You then at least have all of the old dataframe parts on all the machines, rather than some parts having changed. This is the advantage of functional programming using \"immutable\" data structures.)"
   ]
  },
  {
   "cell_type": "markdown",
   "metadata": {},
   "source": [
    "## Part 4:  Exploratory Data Analysis (EDA) - Global Properties\n",
    "\n",
    "Below is a basic checklist for the early stages of exploratory data analysis in Python. While not universally applicable, the rubric covers patterns which recur in several data analysis contexts, so useful to keep it in mind when encountering a new dataset.\n",
    "\n",
    "The basic workflow (enunciated in this form by Chris Beaumont, the first Head TF of cs109 ever) is as follows:\n",
    "\n",
    "1. **Build** a DataFrame from the data (ideally, put all data in this object)\n",
    "2. **Clean** the DataFrame. It should have the following properties:\n",
    "    - Each row describes a single object\n",
    "    - Each column describes a property of that object\n",
    "    - Columns are numeric whenever appropriate\n",
    "    - Columns contain atomic properties that cannot be further decomposed\n",
    "    \n",
    "3. Explore **global properties**. Use histograms, scatter plots, and aggregation functions to summarize the data.\n",
    "4. Explore **group properties**. Use groupby and small multiples to compare subsets of the data.\n",
    "\n",
    "This process transforms the data into a format which is easier to work with, gives you a basic overview of the data's properties, and likely generates several questions for you to follow-up on in subsequent analysis.\n",
    "\n",
    "So far we have **built** the dataframe from automobile data, and carried out very minimal **cleaning** (renaming) in this dataframe.  We'll now visualize global  properties of our dataset.  We illustrate the concepts using `mpg`.  A similar analysis should be done for all the data columns, as this may help identify interesting properties and even errors in the dataset.  **Group** properties will be discussed later in Monday's lecture."
   ]
  },
  {
   "cell_type": "markdown",
   "metadata": {},
   "source": [
    "### Histograms\n",
    "A histogram shows the frequency distribution of a dataset.  Below is the distribution of `mpg`.  The `.hist` method of a pandas series plots the distribution, and the seaborn package sets the global `matplotlib` plotting context.  Here, we've used `notebook`, which makes reasonable sized graphics in seaborn's default color palette.  "
   ]
  },
  {
   "cell_type": "code",
   "execution_count": 72,
   "metadata": {
    "collapsed": true
   },
   "outputs": [],
   "source": [
    "import matplotlib.pyplot as plt #sets up plotting under plt\n",
    "import seaborn as sns #sets up styles and gives us more plotting options"
   ]
  },
  {
   "cell_type": "code",
   "execution_count": 73,
   "metadata": {},
   "outputs": [
    {
     "data": {
      "image/png": "[encoded data removed]",
      "text/plain": [
       "<matplotlib.figure.Figure at 0x2947cd0>"
      ]
     },
     "metadata": {},
     "output_type": "display_data"
    }
   ],
   "source": [
    "sns.set_context(\"notebook\")\n",
    "dfcars.mpg.plot.hist()  \n",
    "plt.xlabel(\"mpg\");"
   ]
  },
  {
   "cell_type": "markdown",
   "metadata": {},
   "source": [
    "We could have made the same histogram with `matplotlib` using the `hist` function.   We can use `matplotlib` on a pandas series or any other listy container which we might do, for example, if a certain type of plot is not yet supported by pandas.  Below we use `matplotlib`  `hist`, set the seaborn context to `poster` to create a larger graphic, add axes labels and titles, and change the number of bins from the default.  "
   ]
  },
  {
   "cell_type": "code",
   "execution_count": 74,
   "metadata": {},
   "outputs": [
    {
     "data": {
      "image/png": "[encoded data removed]",
      "text/plain": [
       "<matplotlib.figure.Figure at 0x925a950>"
      ]
     },
     "metadata": {},
     "output_type": "display_data"
    }
   ],
   "source": [
    "sns.set_context(\"poster\")\n",
    "plt.hist(dfcars.mpg, bins=20);\n",
    "plt.xlabel(\"mpg\");\n",
    "plt.ylabel(\"Frequency\")\n",
    "plt.title(\"Miles per Gallon\");"
   ]
  },
  {
   "cell_type": "markdown",
   "metadata": {},
   "source": [
    "Check out the documentation for even more options!"
   ]
  },
  {
   "cell_type": "markdown",
   "metadata": {},
   "source": [
    ">**EXERCISE**: Plot the distribution of the rear axle ratio (`drat`).  Label the axes accordingly and give the plot a title.    Calculate the mean of the distribution, and, if you like, draw a line on the figure showing the location of the mean (see the documentation for `axvline`).\n"
   ]
  },
  {
   "cell_type": "code",
   "execution_count": 96,
   "metadata": {},
   "outputs": [
    {
     "data": {
      "text/plain": [
       "<matplotlib.lines.Line2D at 0x2816430>"
      ]
     },
     "execution_count": 96,
     "metadata": {},
     "output_type": "execute_result"
    },
    {
     "data": {
      "image/png": "[encoded data removed]",
      "text/plain": [
       "<matplotlib.figure.Figure at 0xa77650>"
      ]
     },
     "metadata": {},
     "output_type": "display_data"
    }
   ],
   "source": [
    "# your code here\n",
    "sns.set_context('poster')\n",
    "plt.hist(dfcars.drat)\n",
    "plt.title('Distribution of Rear Axle Ratio')\n",
    "plt.xlabel('Rear Axle Ratio')\n",
    "plt.ylabel('Frequency')\n",
    "plt.axvline(x = dfcars.drat.mean(), ymin = 0, ymax = 7, ls = 'dashed', color = 'k')"
   ]
  },
  {
   "cell_type": "code",
   "execution_count": 98,
   "metadata": {},
   "outputs": [
    {
     "data": {
      "text/plain": [
       "3.5965625000000006"
      ]
     },
     "execution_count": 98,
     "metadata": {},
     "output_type": "execute_result"
    }
   ],
   "source": [
    "dfcars.drat.mean()"
   ]
  },
  {
   "cell_type": "markdown",
   "metadata": {},
   "source": [
    "### Scatter plots\n",
    "We often want to see co-variation among our columns, for example, miles/gallon versus weight.  This can be done with a scatter plot. "
   ]
  },
  {
   "cell_type": "code",
   "execution_count": 76,
   "metadata": {},
   "outputs": [
    {
     "data": {
      "image/png": "[encoded data removed]",
      "text/plain": [
       "<matplotlib.figure.Figure at 0x28d5e70>"
      ]
     },
     "metadata": {},
     "output_type": "display_data"
    }
   ],
   "source": [
    "sns.set_context(\"notebook\")\n",
    "plt.scatter(dfcars.wt, dfcars.mpg);\n",
    "plt.xlabel(\"weight\");\n",
    "plt.ylabel(\"miles per gallon\");"
   ]
  },
  {
   "cell_type": "markdown",
   "metadata": {},
   "source": [
    "You could have used `plot` instead of `scatter`.  Let's look at the `plot` documentation."
   ]
  },
  {
   "cell_type": "code",
   "execution_count": 77,
   "metadata": {
    "collapsed": true
   },
   "outputs": [
    {
     "data": {
      "text/plain": [
       "\u001b[1;31mSignature:\u001b[0m \u001b[0mplt\u001b[0m\u001b[1;33m.\u001b[0m\u001b[0mplot\u001b[0m\u001b[1;33m(\u001b[0m\u001b[1;33m*\u001b[0m\u001b[0margs\u001b[0m\u001b[1;33m,\u001b[0m \u001b[1;33m**\u001b[0m\u001b[0mkwargs\u001b[0m\u001b[1;33m)\u001b[0m\u001b[1;33m\u001b[0m\u001b[0m\n",
       "\u001b[1;31mDocstring:\u001b[0m\n",
       "Plot lines and/or markers to the\n",
       ":class:`~matplotlib.axes.Axes`.  *args* is a variable length\n",
       "argument, allowing for multiple *x*, *y* pairs with an\n",
       "optional format string.  For example, each of the following is\n",
       "legal::\n",
       "\n",
       "    plot(x, y)        # plot x and y using default line style and color\n",
       "    plot(x, y, 'bo')  # plot x and y using blue circle markers\n",
       "    plot(y)           # plot y using x as index array 0..N-1\n",
       "    plot(y, 'r+')     # ditto, but with red plusses\n",
       "\n",
       "If *x* and/or *y* is 2-dimensional, then the corresponding columns\n",
       "will be plotted.\n",
       "\n",
       "If used with labeled data, make sure that the color spec is not\n",
       "included as an element in data, as otherwise the last case\n",
       "``plot(\"v\",\"r\", data={\"v\":..., \"r\":...)``\n",
       "can be interpreted as the first case which would do ``plot(v, r)``\n",
       "using the default line style and color.\n",
       "\n",
       "If not used with labeled data (i.e., without a data argument),\n",
       "an arbitrary number of *x*, *y*, *fmt* groups can be specified, as in::\n",
       "\n",
       "    a.plot(x1, y1, 'g^', x2, y2, 'g-')\n",
       "\n",
       "Return value is a list of lines that were added.\n",
       "\n",
       "By default, each line is assigned a different style specified by a\n",
       "'style cycle'.  To change this behavior, you can edit the\n",
       "axes.prop_cycle rcParam.\n",
       "\n",
       "The following format string characters are accepted to control\n",
       "the line style or marker:\n",
       "\n",
       "================    ===============================\n",
       "character           description\n",
       "================    ===============================\n",
       "``'-'``             solid line style\n",
       "``'--'``            dashed line style\n",
       "``'-.'``            dash-dot line style\n",
       "``':'``             dotted line style\n",
       "``'.'``             point marker\n",
       "``','``             pixel marker\n",
       "``'o'``             circle marker\n",
       "``'v'``             triangle_down marker\n",
       "``'^'``             triangle_up marker\n",
       "``'<'``             triangle_left marker\n",
       "``'>'``             triangle_right marker\n",
       "``'1'``             tri_down marker\n",
       "``'2'``             tri_up marker\n",
       "``'3'``             tri_left marker\n",
       "``'4'``             tri_right marker\n",
       "``'s'``             square marker\n",
       "``'p'``             pentagon marker\n",
       "``'*'``             star marker\n",
       "``'h'``             hexagon1 marker\n",
       "``'H'``             hexagon2 marker\n",
       "``'+'``             plus marker\n",
       "``'x'``             x marker\n",
       "``'D'``             diamond marker\n",
       "``'d'``             thin_diamond marker\n",
       "``'|'``             vline marker\n",
       "``'_'``             hline marker\n",
       "================    ===============================\n",
       "\n",
       "\n",
       "The following color abbreviations are supported:\n",
       "\n",
       "==========  ========\n",
       "character   color\n",
       "==========  ========\n",
       "'b'         blue\n",
       "'g'         green\n",
       "'r'         red\n",
       "'c'         cyan\n",
       "'m'         magenta\n",
       "'y'         yellow\n",
       "'k'         black\n",
       "'w'         white\n",
       "==========  ========\n",
       "\n",
       "In addition, you can specify colors in many weird and\n",
       "wonderful ways, including full names (``'green'``), hex\n",
       "strings (``'#008000'``), RGB or RGBA tuples (``(0,1,0,1)``) or\n",
       "grayscale intensities as a string (``'0.8'``).  Of these, the\n",
       "string specifications can be used in place of a ``fmt`` group,\n",
       "but the tuple forms can be used only as ``kwargs``.\n",
       "\n",
       "Line styles and colors are combined in a single format string, as in\n",
       "``'bo'`` for blue circles.\n",
       "\n",
       "The *kwargs* can be used to set line properties (any property that has\n",
       "a ``set_*`` method).  You can use this to set a line label (for auto\n",
       "legends), linewidth, anitialising, marker face color, etc.  Here is an\n",
       "example::\n",
       "\n",
       "    plot([1,2,3], [1,2,3], 'go-', label='line 1', linewidth=2)\n",
       "    plot([1,2,3], [1,4,9], 'rs',  label='line 2')\n",
       "    axis([0, 4, 0, 10])\n",
       "    legend()\n",
       "\n",
       "If you make multiple lines with one plot command, the kwargs\n",
       "apply to all those lines, e.g.::\n",
       "\n",
       "    plot(x1, y1, x2, y2, antialiased=False)\n",
       "\n",
       "Neither line will be antialiased.\n",
       "\n",
       "You do not need to use format strings, which are just\n",
       "abbreviations.  All of the line properties can be controlled\n",
       "by keyword arguments.  For example, you can set the color,\n",
       "marker, linestyle, and markercolor with::\n",
       "\n",
       "    plot(x, y, color='green', linestyle='dashed', marker='o',\n",
       "         markerfacecolor='blue', markersize=12).\n",
       "\n",
       "See :class:`~matplotlib.lines.Line2D` for details.\n",
       "\n",
       "The kwargs are :class:`~matplotlib.lines.Line2D` properties:\n",
       "\n",
       "  agg_filter: a filter function, which takes a (m, n, 3) float array and a dpi value, and returns a (m, n, 3) array \n",
       "  alpha: float (0.0 transparent through 1.0 opaque) \n",
       "  animated: bool \n",
       "  antialiased or aa: [True | False] \n",
       "  clip_box: a `~.Bbox` instance \n",
       "  clip_on: bool \n",
       "  clip_path: [(`~matplotlib.path.Path`, `~.Transform`) | `~.Patch` | None] \n",
       "  color or c: any matplotlib color \n",
       "  contains: a callable function \n",
       "  dash_capstyle: ['butt' | 'round' | 'projecting'] \n",
       "  dash_joinstyle: ['miter' | 'round' | 'bevel'] \n",
       "  dashes: sequence of on/off ink in points \n",
       "  drawstyle: ['default' | 'steps' | 'steps-pre' | 'steps-mid' | 'steps-post'] \n",
       "  figure: a `~.Figure` instance \n",
       "  fillstyle: ['full' | 'left' | 'right' | 'bottom' | 'top' | 'none'] \n",
       "  gid: an id string \n",
       "  label: object \n",
       "  linestyle or ls: ['solid' | 'dashed', 'dashdot', 'dotted' | (offset, on-off-dash-seq) | ``'-'`` | ``'--'`` | ``'-.'`` | ``':'`` | ``'None'`` | ``' '`` | ``''``]\n",
       "  linewidth or lw: float value in points \n",
       "  marker: :mod:`A valid marker style <matplotlib.markers>`\n",
       "  markeredgecolor or mec: any matplotlib color \n",
       "  markeredgewidth or mew: float value in points \n",
       "  markerfacecolor or mfc: any matplotlib color \n",
       "  markerfacecoloralt or mfcalt: any matplotlib color \n",
       "  markersize or ms: float \n",
       "  markevery: [None | int | length-2 tuple of int | slice | list/array of int | float | length-2 tuple of float]\n",
       "  path_effects: `~.AbstractPathEffect` \n",
       "  picker: float distance in points or callable pick function ``fn(artist, event)`` \n",
       "  pickradius: float distance in points\n",
       "  rasterized: bool or None \n",
       "  sketch_params: (scale: float, length: float, randomness: float) \n",
       "  snap: bool or None \n",
       "  solid_capstyle: ['butt' | 'round' |  'projecting'] \n",
       "  solid_joinstyle: ['miter' | 'round' | 'bevel'] \n",
       "  transform: a :class:`matplotlib.transforms.Transform` instance \n",
       "  url: a url string \n",
       "  visible: bool \n",
       "  xdata: 1D array \n",
       "  ydata: 1D array \n",
       "  zorder: float \n",
       "\n",
       "kwargs *scalex* and *scaley*, if defined, are passed on to\n",
       ":meth:`~matplotlib.axes.Axes.autoscale_view` to determine\n",
       "whether the *x* and *y* axes are autoscaled; the default is\n",
       "*True*.\n",
       "\n",
       ".. note::\n",
       "    In addition to the above described arguments, this function can take a\n",
       "    **data** keyword argument. If such a **data** argument is given, the\n",
       "    following arguments are replaced by **data[<arg>]**:\n",
       "\n",
       "    * All arguments with the following names: 'x', 'y'.\n",
       "\u001b[1;31mFile:\u001b[0m      c:\\users\\jose\\anaconda3\\lib\\site-packages\\matplotlib\\pyplot.py\n",
       "\u001b[1;31mType:\u001b[0m      function\n"
      ]
     },
     "metadata": {},
     "output_type": "display_data"
    }
   ],
   "source": [
    "# look at the .plot documentation\n",
    "plt.plot?"
   ]
  },
  {
   "cell_type": "markdown",
   "metadata": {},
   "source": [
    "And plot the data as dots."
   ]
  },
  {
   "cell_type": "code",
   "execution_count": 78,
   "metadata": {},
   "outputs": [
    {
     "data": {
      "image/png": "[encoded data removed]",
      "text/plain": [
       "<matplotlib.figure.Figure at 0x97732f0>"
      ]
     },
     "metadata": {},
     "output_type": "display_data"
    }
   ],
   "source": [
    "plt.plot(dfcars.wt, dfcars.mpg, 'o');\n",
    "plt.xlabel(\"weight\");\n",
    "plt.ylabel(\"miles per gallon\");"
   ]
  },
  {
   "cell_type": "markdown",
   "metadata": {},
   "source": [
    "Usually we use `plt.show()` at the end of every plot to display the plot. Our magical incantation `%matplotlib inline` takes care of this for us, and we don't have to do it in the Jupyter notebook. But if you run your Python program from a file, you will need to explicitly have a call to show. We include it for completion."
   ]
  },
  {
   "cell_type": "code",
   "execution_count": 79,
   "metadata": {},
   "outputs": [
    {
     "data": {
      "image/png": "[encoded data removed]",
      "text/plain": [
       "<matplotlib.figure.Figure at 0x97a7050>"
      ]
     },
     "metadata": {},
     "output_type": "display_data"
    }
   ],
   "source": [
    "plt.plot(dfcars.wt, dfcars.mpg, 'ko')  #black dots\n",
    "plt.xlabel(\"weight\");\n",
    "plt.ylabel(\"miles per gallon\");\n",
    "plt.show()"
   ]
  },
  {
   "cell_type": "markdown",
   "metadata": {},
   "source": [
    "Suppose we'd like to save a figure to a file.  We do this by including the `savefig` command in the same cell as the plotting commands.  The file extension tells you how the file will be saved. "
   ]
  },
  {
   "cell_type": "code",
   "execution_count": 80,
   "metadata": {},
   "outputs": [
    {
     "ename": "FileNotFoundError",
     "evalue": "[Errno 2] No such file or directory: 'images/foo1.pdf'",
     "output_type": "error",
     "traceback": [
      "\u001b[1;31m---------------------------------------------------------------------------\u001b[0m",
      "\u001b[1;31mFileNotFoundError\u001b[0m                         Traceback (most recent call last)",
      "\u001b[1;32m<ipython-input-80-72919567427f>\u001b[0m in \u001b[0;36m<module>\u001b[1;34m()\u001b[0m\n\u001b[0;32m      2\u001b[0m \u001b[0mplt\u001b[0m\u001b[1;33m.\u001b[0m\u001b[0mxlabel\u001b[0m\u001b[1;33m(\u001b[0m\u001b[1;34m\"weight\"\u001b[0m\u001b[1;33m)\u001b[0m\u001b[1;33m;\u001b[0m\u001b[1;33m\u001b[0m\u001b[0m\n\u001b[0;32m      3\u001b[0m \u001b[0mplt\u001b[0m\u001b[1;33m.\u001b[0m\u001b[0mylabel\u001b[0m\u001b[1;33m(\u001b[0m\u001b[1;34m\"miles per gallon\"\u001b[0m\u001b[1;33m)\u001b[0m\u001b[1;33m;\u001b[0m\u001b[1;33m\u001b[0m\u001b[0m\n\u001b[1;32m----> 4\u001b[1;33m \u001b[0mplt\u001b[0m\u001b[1;33m.\u001b[0m\u001b[0msavefig\u001b[0m\u001b[1;33m(\u001b[0m\u001b[1;34m'images/foo1.pdf'\u001b[0m\u001b[1;33m)\u001b[0m\u001b[1;33m\u001b[0m\u001b[0m\n\u001b[0m\u001b[0;32m      5\u001b[0m \u001b[0mplt\u001b[0m\u001b[1;33m.\u001b[0m\u001b[0msavefig\u001b[0m\u001b[1;33m(\u001b[0m\u001b[1;34m'images/foo2.png'\u001b[0m\u001b[1;33m,\u001b[0m \u001b[0mbbox_inches\u001b[0m\u001b[1;33m=\u001b[0m\u001b[1;34m'tight'\u001b[0m\u001b[1;33m)\u001b[0m \u001b[1;31m#less whitespace around image\u001b[0m\u001b[1;33m\u001b[0m\u001b[0m\n",
      "\u001b[1;32m~\\Anaconda3\\lib\\site-packages\\matplotlib\\pyplot.py\u001b[0m in \u001b[0;36msavefig\u001b[1;34m(*args, **kwargs)\u001b[0m\n\u001b[0;32m    699\u001b[0m \u001b[1;32mdef\u001b[0m \u001b[0msavefig\u001b[0m\u001b[1;33m(\u001b[0m\u001b[1;33m*\u001b[0m\u001b[0margs\u001b[0m\u001b[1;33m,\u001b[0m \u001b[1;33m**\u001b[0m\u001b[0mkwargs\u001b[0m\u001b[1;33m)\u001b[0m\u001b[1;33m:\u001b[0m\u001b[1;33m\u001b[0m\u001b[0m\n\u001b[0;32m    700\u001b[0m     \u001b[0mfig\u001b[0m \u001b[1;33m=\u001b[0m \u001b[0mgcf\u001b[0m\u001b[1;33m(\u001b[0m\u001b[1;33m)\u001b[0m\u001b[1;33m\u001b[0m\u001b[0m\n\u001b[1;32m--> 701\u001b[1;33m     \u001b[0mres\u001b[0m \u001b[1;33m=\u001b[0m \u001b[0mfig\u001b[0m\u001b[1;33m.\u001b[0m\u001b[0msavefig\u001b[0m\u001b[1;33m(\u001b[0m\u001b[1;33m*\u001b[0m\u001b[0margs\u001b[0m\u001b[1;33m,\u001b[0m \u001b[1;33m**\u001b[0m\u001b[0mkwargs\u001b[0m\u001b[1;33m)\u001b[0m\u001b[1;33m\u001b[0m\u001b[0m\n\u001b[0m\u001b[0;32m    702\u001b[0m     \u001b[0mfig\u001b[0m\u001b[1;33m.\u001b[0m\u001b[0mcanvas\u001b[0m\u001b[1;33m.\u001b[0m\u001b[0mdraw_idle\u001b[0m\u001b[1;33m(\u001b[0m\u001b[1;33m)\u001b[0m   \u001b[1;31m# need this if 'transparent=True' to reset colors\u001b[0m\u001b[1;33m\u001b[0m\u001b[0m\n\u001b[0;32m    703\u001b[0m     \u001b[1;32mreturn\u001b[0m \u001b[0mres\u001b[0m\u001b[1;33m\u001b[0m\u001b[0m\n",
      "\u001b[1;32m~\\Anaconda3\\lib\\site-packages\\matplotlib\\figure.py\u001b[0m in \u001b[0;36msavefig\u001b[1;34m(self, fname, **kwargs)\u001b[0m\n\u001b[0;32m   1832\u001b[0m             \u001b[0mself\u001b[0m\u001b[1;33m.\u001b[0m\u001b[0mset_frameon\u001b[0m\u001b[1;33m(\u001b[0m\u001b[0mframeon\u001b[0m\u001b[1;33m)\u001b[0m\u001b[1;33m\u001b[0m\u001b[0m\n\u001b[0;32m   1833\u001b[0m \u001b[1;33m\u001b[0m\u001b[0m\n\u001b[1;32m-> 1834\u001b[1;33m         \u001b[0mself\u001b[0m\u001b[1;33m.\u001b[0m\u001b[0mcanvas\u001b[0m\u001b[1;33m.\u001b[0m\u001b[0mprint_figure\u001b[0m\u001b[1;33m(\u001b[0m\u001b[0mfname\u001b[0m\u001b[1;33m,\u001b[0m \u001b[1;33m**\u001b[0m\u001b[0mkwargs\u001b[0m\u001b[1;33m)\u001b[0m\u001b[1;33m\u001b[0m\u001b[0m\n\u001b[0m\u001b[0;32m   1835\u001b[0m \u001b[1;33m\u001b[0m\u001b[0m\n\u001b[0;32m   1836\u001b[0m         \u001b[1;32mif\u001b[0m \u001b[0mframeon\u001b[0m\u001b[1;33m:\u001b[0m\u001b[1;33m\u001b[0m\u001b[0m\n",
      "\u001b[1;32m~\\Anaconda3\\lib\\site-packages\\matplotlib\\backend_bases.py\u001b[0m in \u001b[0;36mprint_figure\u001b[1;34m(self, filename, dpi, facecolor, edgecolor, orientation, format, **kwargs)\u001b[0m\n\u001b[0;32m   2265\u001b[0m                 \u001b[0morientation\u001b[0m\u001b[1;33m=\u001b[0m\u001b[0morientation\u001b[0m\u001b[1;33m,\u001b[0m\u001b[1;33m\u001b[0m\u001b[0m\n\u001b[0;32m   2266\u001b[0m                 \u001b[0mbbox_inches_restore\u001b[0m\u001b[1;33m=\u001b[0m\u001b[0m_bbox_inches_restore\u001b[0m\u001b[1;33m,\u001b[0m\u001b[1;33m\u001b[0m\u001b[0m\n\u001b[1;32m-> 2267\u001b[1;33m                 **kwargs)\n\u001b[0m\u001b[0;32m   2268\u001b[0m         \u001b[1;32mfinally\u001b[0m\u001b[1;33m:\u001b[0m\u001b[1;33m\u001b[0m\u001b[0m\n\u001b[0;32m   2269\u001b[0m             \u001b[1;32mif\u001b[0m \u001b[0mbbox_inches\u001b[0m \u001b[1;32mand\u001b[0m \u001b[0mrestore_bbox\u001b[0m\u001b[1;33m:\u001b[0m\u001b[1;33m\u001b[0m\u001b[0m\n",
      "\u001b[1;32m~\\Anaconda3\\lib\\site-packages\\matplotlib\\backends\\backend_pdf.py\u001b[0m in \u001b[0;36mprint_pdf\u001b[1;34m(self, filename, **kwargs)\u001b[0m\n\u001b[0;32m   2582\u001b[0m             \u001b[0mfile\u001b[0m \u001b[1;33m=\u001b[0m \u001b[0mfilename\u001b[0m\u001b[1;33m.\u001b[0m\u001b[0m_file\u001b[0m\u001b[1;33m\u001b[0m\u001b[0m\n\u001b[0;32m   2583\u001b[0m         \u001b[1;32melse\u001b[0m\u001b[1;33m:\u001b[0m\u001b[1;33m\u001b[0m\u001b[0m\n\u001b[1;32m-> 2584\u001b[1;33m             \u001b[0mfile\u001b[0m \u001b[1;33m=\u001b[0m \u001b[0mPdfFile\u001b[0m\u001b[1;33m(\u001b[0m\u001b[0mfilename\u001b[0m\u001b[1;33m,\u001b[0m \u001b[0mmetadata\u001b[0m\u001b[1;33m=\u001b[0m\u001b[0mkwargs\u001b[0m\u001b[1;33m.\u001b[0m\u001b[0mpop\u001b[0m\u001b[1;33m(\u001b[0m\u001b[1;34m\"metadata\"\u001b[0m\u001b[1;33m,\u001b[0m \u001b[1;32mNone\u001b[0m\u001b[1;33m)\u001b[0m\u001b[1;33m)\u001b[0m\u001b[1;33m\u001b[0m\u001b[0m\n\u001b[0m\u001b[0;32m   2585\u001b[0m         \u001b[1;32mtry\u001b[0m\u001b[1;33m:\u001b[0m\u001b[1;33m\u001b[0m\u001b[0m\n\u001b[0;32m   2586\u001b[0m             \u001b[0mfile\u001b[0m\u001b[1;33m.\u001b[0m\u001b[0mnewPage\u001b[0m\u001b[1;33m(\u001b[0m\u001b[0mwidth\u001b[0m\u001b[1;33m,\u001b[0m \u001b[0mheight\u001b[0m\u001b[1;33m)\u001b[0m\u001b[1;33m\u001b[0m\u001b[0m\n",
      "\u001b[1;32m~\\Anaconda3\\lib\\site-packages\\matplotlib\\backends\\backend_pdf.py\u001b[0m in \u001b[0;36m__init__\u001b[1;34m(self, filename, metadata)\u001b[0m\n\u001b[0;32m    437\u001b[0m         \u001b[0mself\u001b[0m\u001b[1;33m.\u001b[0m\u001b[0mtell_base\u001b[0m \u001b[1;33m=\u001b[0m \u001b[1;36m0\u001b[0m\u001b[1;33m\u001b[0m\u001b[0m\n\u001b[0;32m    438\u001b[0m         \u001b[1;32mif\u001b[0m \u001b[0misinstance\u001b[0m\u001b[1;33m(\u001b[0m\u001b[0mfilename\u001b[0m\u001b[1;33m,\u001b[0m \u001b[0msix\u001b[0m\u001b[1;33m.\u001b[0m\u001b[0mstring_types\u001b[0m\u001b[1;33m)\u001b[0m\u001b[1;33m:\u001b[0m\u001b[1;33m\u001b[0m\u001b[0m\n\u001b[1;32m--> 439\u001b[1;33m             \u001b[0mfh\u001b[0m \u001b[1;33m=\u001b[0m \u001b[0mopen\u001b[0m\u001b[1;33m(\u001b[0m\u001b[0mfilename\u001b[0m\u001b[1;33m,\u001b[0m \u001b[1;34m'wb'\u001b[0m\u001b[1;33m)\u001b[0m\u001b[1;33m\u001b[0m\u001b[0m\n\u001b[0m\u001b[0;32m    440\u001b[0m         \u001b[1;32melif\u001b[0m \u001b[0mis_writable_file_like\u001b[0m\u001b[1;33m(\u001b[0m\u001b[0mfilename\u001b[0m\u001b[1;33m)\u001b[0m\u001b[1;33m:\u001b[0m\u001b[1;33m\u001b[0m\u001b[0m\n\u001b[0;32m    441\u001b[0m             \u001b[1;32mtry\u001b[0m\u001b[1;33m:\u001b[0m\u001b[1;33m\u001b[0m\u001b[0m\n",
      "\u001b[1;31mFileNotFoundError\u001b[0m: [Errno 2] No such file or directory: 'images/foo1.pdf'"
     ]
    },
    {
     "data": {
      "image/png": "[encoded data removed]",
      "text/plain": [
       "<matplotlib.figure.Figure at 0x97ef270>"
      ]
     },
     "metadata": {},
     "output_type": "display_data"
    }
   ],
   "source": [
    "plt.plot(dfcars.wt, dfcars.mpg, 'o')\n",
    "plt.xlabel(\"weight\");\n",
    "plt.ylabel(\"miles per gallon\");\n",
    "plt.savefig('images/foo1.pdf')\n",
    "plt.savefig('images/foo2.png', bbox_inches='tight') #less whitespace around image"
   ]
  },
  {
   "cell_type": "markdown",
   "metadata": {},
   "source": [
    "And this is what the saved png looks like. Code in Markdown to show this is:\n",
    "\n",
    "`![](images/foo2.png)`\n",
    "\n",
    "![](images/foo2.png)"
   ]
  },
  {
   "cell_type": "markdown",
   "metadata": {},
   "source": [
    "Finally, look what happens if we plot the data as dots connected by a line.  We get a useless soup!"
   ]
  },
  {
   "cell_type": "code",
   "execution_count": 99,
   "metadata": {},
   "outputs": [
    {
     "data": {
      "image/png": "[encoded data removed]",
      "text/plain": [
       "<matplotlib.figure.Figure at 0x28be250>"
      ]
     },
     "metadata": {},
     "output_type": "display_data"
    }
   ],
   "source": [
    "plt.plot(dfcars.wt, dfcars.mpg, 'o-')  \n",
    "plt.xlabel(\"weight\");\n",
    "plt.ylabel(\"miles per gallon\");\n",
    "plt.show()"
   ]
  },
  {
   "cell_type": "markdown",
   "metadata": {},
   "source": [
    "To fix this problem, we make a new dataframe with the columns of interest, sort it based on the x-value (`wt` in this case), and plot the sorted data."
   ]
  },
  {
   "cell_type": "code",
   "execution_count": 100,
   "metadata": {},
   "outputs": [
    {
     "data": {
      "image/png": "[encoded data removed]",
      "text/plain": [
       "<matplotlib.figure.Figure at 0xb1f9f0>"
      ]
     },
     "metadata": {},
     "output_type": "display_data"
    }
   ],
   "source": [
    "sub_dfcars = dfcars[['wt', 'mpg']]\n",
    "df_temp = sub_dfcars.sort_values('wt')\n",
    "plt.plot(df_temp.wt, df_temp.mpg, 'o-');\n",
    "plt.xlabel(\"weight\");\n",
    "plt.ylabel(\"miles per gallon\");\n",
    "plt.show()"
   ]
  },
  {
   "cell_type": "markdown",
   "metadata": {},
   "source": [
    "Below is a summary of the most commonly used `matplotlib` plotting routines.\n",
    "\n",
    "![](images/mpl1.png)"
   ]
  },
  {
   "cell_type": "markdown",
   "metadata": {},
   "source": [
    ">**EXERCISE**: Create a scatter plot showing the co-variation between two columns of your choice.  Label the axes.  See if you can do this *without* copying and pasting code from earlier in the lab.  What can you conclude, if anything, from your scatter plot?"
   ]
  },
  {
   "cell_type": "code",
   "execution_count": 103,
   "metadata": {},
   "outputs": [
    {
     "data": {
      "text/plain": [
       "Text(0,0.5,'Miles per Gallon')"
      ]
     },
     "execution_count": 103,
     "metadata": {},
     "output_type": "execute_result"
    },
    {
     "data": {
      "image/png": "[encoded data removed]",
      "text/plain": [
       "<matplotlib.figure.Figure at 0x1099830>"
      ]
     },
     "metadata": {},
     "output_type": "display_data"
    }
   ],
   "source": [
    "# your code here\n",
    "plt.scatter(dfcars.hp, dfcars.mpg)\n",
    "plt.xlabel('Horsepower')\n",
    "plt.ylabel('Miles per Gallon')\n",
    "# as expected, there appears to be a negative correlation between horsepower and mpg - the more horsepower your car has, the worse its mileage tends to be."
   ]
  },
  {
   "cell_type": "markdown",
   "metadata": {},
   "source": [
    "## Part 5: Conclusions"
   ]
  },
  {
   "cell_type": "markdown",
   "metadata": {},
   "source": [
    "In this lab we introduced functions, the numpy and pandas libraries, and beginning EDA through histograms and scatter polots.  We've tried to consolidate the information as much as possible, so have necessarily left out other topics of interest.  For more practice exercises (with solutions) and discussion, see this [page](http://www.practicepython.org).  Some of these exercises are particularly relevant.  Check them out!\n",
    "\n",
    "Don't forget to look up [Jake's book](https://jakevdp.github.io/PythonDataScienceHandbook/).\n",
    "\n",
    "Finally, we would like to suggest using [Chris Albon's web site](https://chrisalbon.com) as a reference. Lots of useful information there."
   ]
  }
 ],
 "metadata": {
  "anaconda-cloud": {},
  "kernelspec": {
   "display_name": "Python 3",
   "language": "python",
   "name": "python3"
  },
  "language_info": {
   "codemirror_mode": {
    "name": "ipython",
    "version": 3
   },
   "file_extension": ".py",
   "mimetype": "text/x-python",
   "name": "python",
   "nbconvert_exporter": "python",
   "pygments_lexer": "ipython3",
   "version": "3.6.4"
  }
 },
 "nbformat": 4,
 "nbformat_minor": 2
}
